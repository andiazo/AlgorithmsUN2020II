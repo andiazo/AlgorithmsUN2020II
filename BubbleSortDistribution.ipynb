{
  "nbformat": 4,
  "nbformat_minor": 0,
  "metadata": {
    "colab": {
      "name": "BubbleSortDistribution.ipynb",
      "provenance": [],
      "collapsed_sections": [],
      "include_colab_link": true
    },
    "kernelspec": {
      "name": "python3",
      "display_name": "Python 3"
    }
  },
  "cells": [
    {
      "cell_type": "markdown",
      "metadata": {
        "id": "view-in-github",
        "colab_type": "text"
      },
      "source": [
        "<a href=\"https://colab.research.google.com/github/andiazo/AlgorithmsUN2020II/blob/master/BubbleSortDistribution.ipynb\" target=\"_parent\"><img src=\"https://colab.research.google.com/assets/colab-badge.svg\" alt=\"Open In Colab\"/></a>"
      ]
    },
    {
      "cell_type": "markdown",
      "metadata": {
        "id": "-wGu0Y-Esbsy"
      },
      "source": [
        "# LAB 10 Bubble Sort Distribution – Fibonacci Time - Groups\n",
        "\n",
        "By\n",
        "*  Diaz Obando, Andres David\n",
        "*  Gonzalez Ordoñez, Danier Elian\n",
        "*  Mojica Perdigon, Gustavo Adolfo\n",
        "\n"
      ]
    },
    {
      "cell_type": "markdown",
      "metadata": {
        "id": "l3NQiF085eiC"
      },
      "source": [
        "## 1. Reproduce the Bubble Sort time distribution calculated in ungrid in a Colab notebook using permutations from itertools and histogram from matplotlib and upload the notebook in BubbleSortDistribution,ipynb in the group’s github."
      ]
    },
    {
      "cell_type": "code",
      "metadata": {
        "id": "nJEpSJ4Gyps_"
      },
      "source": [
        "# import libraries\n",
        "import matplotlib.pyplot as plt\n",
        "import itertools as it\n",
        "import numpy as np\n",
        "import pandas as pd"
      ],
      "execution_count": 1,
      "outputs": []
    },
    {
      "cell_type": "code",
      "metadata": {
        "id": "KImU4KOnsZm8"
      },
      "source": [
        "def bubbleSort(v):\n",
        "  pasos = 0\n",
        "  cadena = v[:]\n",
        "  for i in range(len(cadena)-1):\n",
        "    for j in reversed(range(i+1,len(cadena))):\n",
        "      pasos += 1\n",
        "      if (cadena[j] < cadena[j-1]):\n",
        "        swap(cadena,j,j-1)\n",
        "        pasos+=1\n",
        "  return pasos, cadena\n",
        "\n",
        "def optimizedBubbleSort(v):\n",
        "  pasos = 0\n",
        "  cadena = v[:]\n",
        "  for i in range(len(cadena)-1):\n",
        "    update = False\n",
        "    for j in reversed(range(i+1,len(cadena))):\n",
        "      pasos += 1\n",
        "      if (cadena[j] < cadena[j-1]):\n",
        "        swap(cadena,j,j-1)\n",
        "        pasos+=1\n",
        "        update = True\n",
        "    if (not update):\n",
        "      break\n",
        "  return pasos, cadena\n",
        "\n",
        "def swap(v,i,j):\n",
        "  t = v[i]\n",
        "  v[i] = v[j]\n",
        "  v[j] = t\n"
      ],
      "execution_count": 2,
      "outputs": []
    },
    {
      "cell_type": "code",
      "metadata": {
        "id": "2Rm8I_tyJJ0e"
      },
      "source": [
        "from collections import Counter\n",
        "def plotBSort(n,opc=True):\n",
        "  ''' \n",
        "    Grafica los pasos que se demora el algoritmo bubble sort.\n",
        "    Si opc: True ejecuta bubble sort optimizado\n",
        "    Si opc: False ejecuta bubble sort\n",
        "    n: es el tamaño de la lista a ordenar, dado la RAM, no corre con n>10\n",
        "    n: entre 0 y 10\n",
        "  '''\n",
        "  v = [i+1 for i in range(n)] # Vector con n elementos\n",
        "  pobj = it.permutations(v)   # Se calculan las n! permutaciones\n",
        "  permlist = list(pobj)\n",
        "  xhist = []\n",
        "  if (not opc):               # Si opc == False, ejecuta bubbleSort\n",
        "    for p in permlist:\n",
        "      pl = list(p)\n",
        "      t, po = bubbleSort(pl)\n",
        "      xhist.append(t)\n",
        "    titulo = \"Bubble Sort time distribution calculated for N={0}\".format(n)\n",
        "  else:                       # Si opc == True, ejecuta optimizedBubbleSort\n",
        "    for p in permlist:\n",
        "      pl = list(p)\n",
        "      t, po = optimizedBubbleSort(pl)\n",
        "      xhist.append(t)\n",
        "    titulo = \"Bubble Sort Optimized time distribution calculated for N={0}\".format(n)\n",
        " \n",
        "  \n",
        "  plt.hist(xhist, density=True)\n",
        "  plt.title(titulo)\n",
        "  plt.ylabel(\"density\")\n",
        "  plt.xlabel(\"time complexity\")\n",
        "  plt.show()\n",
        "\n",
        "  for i in range(min(xhist), max(xhist)+1):\n",
        "    porcentaje = xhist.count(i)/len(xhist)*100\n",
        "    print(\"P({0}) = {1} %\".format(i,porcentaje))\n",
        "  print(\"\\nAvg:\",sum(xhist)/len(xhist))\n",
        "\n",
        "  "
      ],
      "execution_count": 20,
      "outputs": []
    },
    {
      "cell_type": "markdown",
      "metadata": {
        "id": "PTGcY6hYZ4xS"
      },
      "source": [
        "Example with N=4"
      ]
    },
    {
      "cell_type": "code",
      "metadata": {
        "colab": {
          "base_uri": "https://localhost:8080/",
          "height": 499
        },
        "id": "MJ-sqM_KJ45C",
        "outputId": "1a121fe8-4e6f-4ddc-cb5d-a35d632149d7"
      },
      "source": [
        "plotBSort(4)"
      ],
      "execution_count": 21,
      "outputs": [
        {
          "output_type": "display_data",
          "data": {
            "image/png": "[encoded data removed]",
            "text/plain": [
              "<Figure size 432x288 with 1 Axes>"
            ]
          },
          "metadata": {
            "tags": [],
            "needs_background": "light"
          }
        },
        {
          "output_type": "stream",
          "text": [
            "P(3) = 4.166666666666666 %\n",
            "P(4) = 0.0 %\n",
            "P(5) = 0.0 %\n",
            "P(6) = 12.5 %\n",
            "P(7) = 12.5 %\n",
            "P(8) = 12.5 %\n",
            "P(9) = 20.833333333333336 %\n",
            "P(10) = 20.833333333333336 %\n",
            "P(11) = 12.5 %\n",
            "P(12) = 4.166666666666666 %\n",
            "\n",
            "Avg: 8.583333333333334\n"
          ],
          "name": "stdout"
        }
      ]
    },
    {
      "cell_type": "code",
      "metadata": {
        "colab": {
          "base_uri": "https://localhost:8080/",
          "height": 448
        },
        "id": "zm8O23w6wOKr",
        "outputId": "7c80333f-536c-4162-b4c3-6d89c727b31a"
      },
      "source": [
        "plotBSort(4,opc=False)"
      ],
      "execution_count": 22,
      "outputs": [
        {
          "output_type": "display_data",
          "data": {
            "image/png": "[encoded data removed]",
            "text/plain": [
              "<Figure size 432x288 with 1 Axes>"
            ]
          },
          "metadata": {
            "tags": [],
            "needs_background": "light"
          }
        },
        {
          "output_type": "stream",
          "text": [
            "P(6) = 4.166666666666666 %\n",
            "P(7) = 12.5 %\n",
            "P(8) = 20.833333333333336 %\n",
            "P(9) = 25.0 %\n",
            "P(10) = 20.833333333333336 %\n",
            "P(11) = 12.5 %\n",
            "P(12) = 4.166666666666666 %\n",
            "\n",
            "Avg: 9.0\n"
          ],
          "name": "stdout"
        }
      ]
    },
    {
      "cell_type": "markdown",
      "metadata": {
        "id": "IxK-RKrAaDVk"
      },
      "source": [
        "Example with N=7"
      ]
    },
    {
      "cell_type": "code",
      "metadata": {
        "colab": {
          "base_uri": "https://localhost:8080/",
          "height": 958
        },
        "id": "BW2eW0ThaG-F",
        "outputId": "fe50c505-37c7-4f35-a927-4b5e51ab29eb"
      },
      "source": [
        "plotBSort(7)"
      ],
      "execution_count": 23,
      "outputs": [
        {
          "output_type": "display_data",
          "data": {
            "image/png": "[encoded data removed]",
            "text/plain": [
              "<Figure size 432x288 with 1 Axes>"
            ]
          },
          "metadata": {
            "tags": [],
            "needs_background": "light"
          }
        },
        {
          "output_type": "stream",
          "text": [
            "P(6) = 0.01984126984126984 %\n",
            "P(7) = 0.0 %\n",
            "P(8) = 0.0 %\n",
            "P(9) = 0.0 %\n",
            "P(10) = 0.0 %\n",
            "P(11) = 0.0 %\n",
            "P(12) = 0.11904761904761905 %\n",
            "P(13) = 0.2976190476190476 %\n",
            "P(14) = 0.3968253968253968 %\n",
            "P(15) = 0.2976190476190476 %\n",
            "P(16) = 0.11904761904761905 %\n",
            "P(17) = 0.11904761904761905 %\n",
            "P(18) = 0.496031746031746 %\n",
            "P(19) = 1.1904761904761905 %\n",
            "P(20) = 1.7857142857142856 %\n",
            "P(21) = 1.9642857142857142 %\n",
            "P(22) = 1.8849206349206349 %\n",
            "P(23) = 2.003968253968254 %\n",
            "P(24) = 2.638888888888889 %\n",
            "P(25) = 3.670634920634921 %\n",
            "P(26) = 4.742063492063492 %\n",
            "P(27) = 5.634920634920635 %\n",
            "P(28) = 6.408730158730158 %\n",
            "P(29) = 7.222222222222221 %\n",
            "P(30) = 8.075396825396826 %\n",
            "P(31) = 8.75 %\n",
            "P(32) = 8.968253968253968 %\n",
            "P(33) = 8.551587301587302 %\n",
            "P(34) = 7.5396825396825395 %\n",
            "P(35) = 6.1309523809523805 %\n",
            "P(36) = 4.563492063492063 %\n",
            "P(37) = 3.075396825396825 %\n",
            "P(38) = 1.8452380952380953 %\n",
            "P(39) = 0.9523809523809524 %\n",
            "P(40) = 0.3968253968253968 %\n",
            "P(41) = 0.11904761904761905 %\n",
            "P(42) = 0.01984126984126984 %\n",
            "\n",
            "Avg: 29.954166666666666\n"
          ],
          "name": "stdout"
        }
      ]
    },
    {
      "cell_type": "code",
      "metadata": {
        "colab": {
          "base_uri": "https://localhost:8080/",
          "height": 703
        },
        "id": "DBMrm4E1whXr",
        "outputId": "a6f175f1-7c0a-44de-9977-ecb49216ee53"
      },
      "source": [
        "plotBSort(7,opc=False)"
      ],
      "execution_count": 24,
      "outputs": [
        {
          "output_type": "display_data",
          "data": {
            "image/png": "[encoded data removed]",
            "text/plain": [
              "<Figure size 432x288 with 1 Axes>"
            ]
          },
          "metadata": {
            "tags": [],
            "needs_background": "light"
          }
        },
        {
          "output_type": "stream",
          "text": [
            "P(21) = 0.01984126984126984 %\n",
            "P(22) = 0.11904761904761905 %\n",
            "P(23) = 0.3968253968253968 %\n",
            "P(24) = 0.9722222222222222 %\n",
            "P(25) = 1.9444444444444444 %\n",
            "P(26) = 3.3531746031746033 %\n",
            "P(27) = 5.138888888888888 %\n",
            "P(28) = 7.123015873015873 %\n",
            "P(29) = 9.027777777777777 %\n",
            "P(30) = 10.535714285714286 %\n",
            "P(31) = 11.369047619047619 %\n",
            "P(32) = 11.369047619047619 %\n",
            "P(33) = 10.535714285714286 %\n",
            "P(34) = 9.027777777777777 %\n",
            "P(35) = 7.123015873015873 %\n",
            "P(36) = 5.138888888888888 %\n",
            "P(37) = 3.3531746031746033 %\n",
            "P(38) = 1.9444444444444444 %\n",
            "P(39) = 0.9722222222222222 %\n",
            "P(40) = 0.3968253968253968 %\n",
            "P(41) = 0.11904761904761905 %\n",
            "P(42) = 0.01984126984126984 %\n",
            "\n",
            "Avg: 31.5\n"
          ],
          "name": "stdout"
        }
      ]
    }
  ]
}