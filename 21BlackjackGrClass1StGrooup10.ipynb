{
  "nbformat": 4,
  "nbformat_minor": 0,
  "metadata": {
    "colab": {
      "name": "21BlackjackGrClass1StGrooup10.ipynb",
      "provenance": [],
      "collapsed_sections": []
    },
    "kernelspec": {
      "name": "python3",
      "display_name": "Python 3"
    }
  },
  "cells": [
    {
      "cell_type": "markdown",
      "metadata": {
        "id": "VdEwug_cei5m"
      },
      "source": [
        "# Lab 4: Monte Carlo – 21 Blackjack\n",
        "Members\n",
        "\n",
        "*   Andres David Diaz Obando\n",
        "*   Danier Elian Gonzalez Ordoñez\n",
        "*   Gustavo Adolfo Mojica Perdigon"
      ]
    },
    {
      "cell_type": "markdown",
      "metadata": {
        "id": "Oa5bPFwfeK-8"
      },
      "source": [
        "#1.Probability of getting 21\n",
        "Estimate the probability of getting a 21, the average number of cards required to complete 21 and plot the experimental distribution of the number of card required to complete 21 drawing cards sequentially from a shuffled Spanish 48-card deck with card values [1,2,3,4,5,6,7,8,9,10,11,12,1,2,3,4,5,6,7,8,9,10,11,12,1,2,3,4,5,6,7,8,9,10,11,12,1,2,3,4,5,6,7,8,9,10,11,12] using Montecarlo with 10 millions simulations."
      ]
    },
    {
      "cell_type": "code",
      "metadata": {
        "id": "a-pZwRv9exdY"
      },
      "source": [
        "import matplotlib.pyplot as plt\n",
        "import numpy as np\n",
        "import random as r "
      ],
      "execution_count": null,
      "outputs": []
    },
    {
      "cell_type": "code",
      "metadata": {
        "id": "2ByggINddP-N",
        "outputId": "5f8318a5-473f-40fb-b751-5719d21e0090",
        "colab": {
          "base_uri": "https://localhost:8080/",
          "height": 283
        }
      },
      "source": [
        "n=10000000\n",
        "count=0\n",
        "avnc=0\n",
        "cards={2:0,3:0,4:0,5:0,6:0,7:0,8:0,9:0,10:0,11:0}\n",
        "for i in range(n):\n",
        "    spanish_deck=[1,2,3,4,5,6,7,8,9,10,11,12,1,2,3,4,5,6,7,8,9,10,11,12,1,2,3,4,5,6,7,8,9,10,11,12,1,2,3,4,5,6,7,8,9,10,11,12]\n",
        "    my_hand=[]\n",
        "    ncards=0\n",
        "    while (sum(my_hand)<21):\n",
        "        card=r.choice(spanish_deck)\n",
        "        my_hand.append(card)\n",
        "        spanish_deck.remove(card)\n",
        "        ncards=ncards+1\n",
        "    if (sum(my_hand)==21):\n",
        "        count=count+1\n",
        "        avnc=avnc+ncards\n",
        "        cards[ncards]=cards[ncards]+1\n",
        "print(\"21 probability: \", count/n,\"Average number of cards: \",avnc/count)\n",
        "plt.bar(cards.keys(), cards.values(),1, color='g')\n",
        "plt.show()"
      ],
      "execution_count": null,
      "outputs": [
        {
          "output_type": "stream",
          "text": [
            "21 probability:  0.1576439 Average number of cards:  3.4151540275265964\n"
          ],
          "name": "stdout"
        },
        {
          "output_type": "display_data",
          "data": {
            "image/png": "[encoded data removed]",
            "text/plain": [
              "<Figure size 432x288 with 1 Axes>"
            ]
          },
          "metadata": {
            "tags": [],
            "needs_background": "light"
          }
        }
      ]
    },
    {
      "cell_type": "markdown",
      "metadata": {
        "id": "BXkT5GgwPqV5"
      },
      "source": [
        "Estimate the probability of getting a 21, the average number of cards required to complete 21 and plot the experimental distribution of the number of card required to complete 21 drawing cards sequentially from a shuffled Poker 52-card with card values [1,2,3,4,5,6,7,8,9,10,11,12,13,1,2,3,4,5,6,7,8,9,10,11,12,13,1,2,3,4,5,6,7,8,9,10,11,12,13,1,2,3,4,5,6,7,8,9,10,11,12,13] using Montecarlo with 10 millions simulations."
      ]
    },
    {
      "cell_type": "code",
      "metadata": {
        "id": "enDvzuPOq_9Y",
        "outputId": "835e8830-920d-4828-f6fb-721f48095670",
        "colab": {
          "base_uri": "https://localhost:8080/",
          "height": 283
        }
      },
      "source": [
        "n=10000000\n",
        "count=0\n",
        "avnc=0\n",
        "cards={2:0,3:0,4:0,5:0,6:0,7:0,8:0,9:0,10:0,11:0}\n",
        "for i in range(n):\n",
        "    poker_deck=[1,2,3,4,5,6,7,8,9,10,11,12,13,1,2,3,4,5,6,7,8,9,10,11,12,13,1,2,3,4,5,6,7,8,9,10,11,12,13,1,2,3,4,5,6,7,8,9,10,11,12,13]\n",
        "    my_hand=[]\n",
        "    ncards=0\n",
        "    while (sum(my_hand)<21):\n",
        "        card=r.choice(poker_deck)\n",
        "        my_hand.append(card)\n",
        "        poker_deck.remove(card)\n",
        "        ncards=ncards+1\n",
        "    if (sum(my_hand)==21):\n",
        "        count=count+1\n",
        "        avnc=avnc+ncards\n",
        "        cards[ncards]=cards[ncards]+1\n",
        "print(\"21 probability: \", count/n,\"Average number of cards: \",avnc/count)\n",
        "plt.bar(cards.keys(), cards.values(),1, color='g')\n",
        "plt.show()\n",
        "\n"
      ],
      "execution_count": null,
      "outputs": [
        {
          "output_type": "stream",
          "text": [
            "21 probability:  0.1446239 Average number of cards:  3.214969310051796\n"
          ],
          "name": "stdout"
        },
        {
          "output_type": "display_data",
          "data": {
            "image/png": "[encoded data removed]",
            "text/plain": [
              "<Figure size 432x288 with 1 Axes>"
            ]
          },
          "metadata": {
            "tags": [],
            "needs_background": "light"
          }
        }
      ]
    },
    {
      "cell_type": "markdown",
      "metadata": {
        "id": "Q7Pa94Qzr1NA"
      },
      "source": [
        "# 2. Probability of getting a 21 with a custom deck\n",
        "Estimate the probability of getting a 21, the average number of cards required to complete 21 and plot the experimental distribution of the number of card required to complete 21 drawing cards sequentially from a shuffled Spanish 48-card deck with card values [1,2,3,4,5,6,7,10,10,10,1,2,3,4,5,6,7,8,9,10,10,10,1,2,3,4,5,6,7,8,9,10,10,10,1,2,3,4,5,6,7,8,9,10,10,10] using Montecarlo with 10 millions simulations."
      ]
    },
    {
      "cell_type": "code",
      "metadata": {
        "id": "3ailm6YOsJkP",
        "outputId": "133b0e6d-b209-41f7-9272-8645a373329b",
        "colab": {
          "base_uri": "https://localhost:8080/",
          "height": 283
        }
      },
      "source": [
        "n=10000000\n",
        "count=0\n",
        "avnc=0\n",
        "cards={2:0,3:0,4:0,5:0,6:0,7:0,8:0,9:0,10:0,11:0}\n",
        "for i in range(n):\n",
        "    spanish_deck=[1,2,3,4,5,6,7,8,9,10,10,10,1,2,3,4,5,6,7,8,9,10,10,10,1,2,3,4,5,6,7,8,9,10,10,10,1,2,3,4,5,6,7,8,9,10,10,10]\n",
        "    my_hand=[]\n",
        "    ncards=0\n",
        "    while (sum(my_hand)<21):\n",
        "        card=r.choice(spanish_deck)\n",
        "        my_hand.append(card)\n",
        "        spanish_deck.remove(card)\n",
        "        ncards=ncards+1\n",
        "    if (sum(my_hand)==21):\n",
        "        count=count+1\n",
        "        avnc=avnc+ncards\n",
        "        cards[ncards]=cards[ncards]+1\n",
        "print(\"21 probability: \", count/n,\"Average number of cards: \",avnc/count)\n",
        "plt.bar(cards.keys(), cards.values(),1, color='g')\n",
        "plt.show()\n",
        "\n"
      ],
      "execution_count": null,
      "outputs": [
        {
          "output_type": "stream",
          "text": [
            "21 probability:  0.1498247 Average number of cards:  3.6988580654591665\n"
          ],
          "name": "stdout"
        },
        {
          "output_type": "display_data",
          "data": {
            "image/png": "[encoded data removed]",
            "text/plain": [
              "<Figure size 432x288 with 1 Axes>"
            ]
          },
          "metadata": {
            "tags": [],
            "needs_background": "light"
          }
        }
      ]
    },
    {
      "cell_type": "markdown",
      "metadata": {
        "id": "ij9S2sFNtNNl"
      },
      "source": [
        "Estimate the probability of getting a 21, the average number of cards required to complete 21 and plot the experimental distribution of the number of card required to complete 21 drawing cards sequentially from a shuffled Poker 52-card deck with card values [1,2,3,4,5,6,7,8,9,10,10,10,10,1,2,3,4,5,6,7,8,9,10,10,10,10,1,2,3,4,5,6,7,8,9,10,10,10,10,1,2,3,4,5,6,7,8,9,10,10,10,10] using Montecarlo with 10 millions simulations."
      ]
    },
    {
      "cell_type": "code",
      "metadata": {
        "id": "HGy4iUX7teAa",
        "outputId": "cbae2541-126d-48e9-e9b2-078993910626",
        "colab": {
          "base_uri": "https://localhost:8080/",
          "height": 283
        }
      },
      "source": [
        "n=10000000\n",
        "count=0\n",
        "avnc=0\n",
        "cards={2:0,3:0,4:0,5:0,6:0,7:0,8:0,9:0,10:0,11:0}\n",
        "for i in range(n):\n",
        "    poker_deck=[1,2,3,4,5,6,7,8,9,10,10,10,10,1,2,3,4,5,6,7,8,9,10,10,10,10,1,2,3,4,5,6,7,8,9,10,10,10,10,1,2,3,4,5,6,7,8,9,10,10,10,10]\n",
        "    my_hand=[]\n",
        "    ncards=0\n",
        "    while (sum(my_hand)<21):\n",
        "        card=r.choice(poker_deck)\n",
        "        my_hand.append(card)\n",
        "        poker_deck.remove(card)\n",
        "        ncards=ncards+1\n",
        "    if (sum(my_hand)==21):\n",
        "        count=count+1\n",
        "        avnc=avnc+ncards\n",
        "        cards[ncards]=cards[ncards]+1\n",
        "print(\"21 probability: \", count/n,\"Average number of cards: \",avnc/count)\n",
        "plt.bar(cards.keys(), cards.values(),1, color='g')\n",
        "plt.show()\n"
      ],
      "execution_count": null,
      "outputs": [
        {
          "output_type": "stream",
          "text": [
            "21 probability:  0.1402644 Average number of cards:  3.577259803628005\n"
          ],
          "name": "stdout"
        },
        {
          "output_type": "display_data",
          "data": {
            "image/png": "[encoded data removed]",
            "text/plain": [
              "<Figure size 432x288 with 1 Axes>"
            ]
          },
          "metadata": {
            "tags": [],
            "needs_background": "light"
          }
        }
      ]
    },
    {
      "cell_type": "markdown",
      "metadata": {
        "id": "319kgqxot5zb"
      },
      "source": [
        "# 3. Probability assuming have 19\n",
        "Calculate the probability of getting a 21, with the Spanish and Poker card deck, assuming that you are in the middle of game and the remaining deck has n/2 card and you have cards [7,7,5]. You pick arbitrary what card are in the remaining deck with the only restriction that there are be maximum two 7s and three 5s). Plot the experimental distribution of the numbers of card requires to complete 21 in 10000000 simulations."
      ]
    },
    {
      "cell_type": "markdown",
      "metadata": {
        "id": "nYJ6XN8LIyss"
      },
      "source": [
        "##Spanish 48-card deck"
      ]
    },
    {
      "cell_type": "code",
      "metadata": {
        "id": "HTL5r8e9IgWi",
        "outputId": "779846b0-5cfd-4d72-b880-ab6b58f964dd",
        "colab": {
          "base_uri": "https://localhost:8080/",
          "height": 283
        }
      },
      "source": [
        "n=10000000\n",
        "count=0\n",
        "avnc=0\n",
        "cards={2:0,3:0,4:0,5:0,6:0,7:0,8:0,9:0,10:0,11:0}\n",
        "for i in range(n):\n",
        "    spanish_deck=[1,2,3,4,5,6,7,8,9,10,10,10,1,2,3,4,5,6,7,8,9,10,10,10]\n",
        "    my_hand=[5,7,7]\n",
        "    ncards=3\n",
        "    while (sum(my_hand)<21):\n",
        "        card=r.choice(spanish_deck)\n",
        "        my_hand.append(card)\n",
        "        spanish_deck.remove(card)\n",
        "        ncards=ncards+1\n",
        "    if (sum(my_hand)==21):\n",
        "        count=count+1\n",
        "        avnc=avnc+ncards\n",
        "        cards[ncards]=cards[ncards]+1\n",
        "print(\"21 probability: \", count/n,\"Average number of cards: \",avnc/count)\n",
        "plt.bar(cards.keys(), cards.values(),1, color='g')\n",
        "plt.show()\n"
      ],
      "execution_count": null,
      "outputs": [
        {
          "output_type": "stream",
          "text": [
            "21 probability:  0.0870128 Average number of cards:  4.041444477134399\n"
          ],
          "name": "stdout"
        },
        {
          "output_type": "display_data",
          "data": {
            "image/png": "[encoded data removed]",
            "text/plain": [
              "<Figure size 432x288 with 1 Axes>"
            ]
          },
          "metadata": {
            "tags": [],
            "needs_background": "light"
          }
        }
      ]
    },
    {
      "cell_type": "markdown",
      "metadata": {
        "id": "PfI0IlJQI8me"
      },
      "source": [
        "##Poker 52-card deck"
      ]
    },
    {
      "cell_type": "code",
      "metadata": {
        "id": "XmoxeBnHJSqV",
        "outputId": "c0c840d1-9075-4b7d-d775-753ec5ba4beb",
        "colab": {
          "base_uri": "https://localhost:8080/",
          "height": 285
        }
      },
      "source": [
        "n=10000000\n",
        "count=0\n",
        "avnc=0\n",
        "cards={2:0,3:0,4:0,5:0,6:0,7:0,8:0,9:0,10:0,11:0}\n",
        "for i in range(n):\n",
        "    poker_deck=[1,2,3,4,5,6,7,8,9,10,10,10,10,1,2,3,4,5,6,7,8,9,10,10,10,10]\n",
        "    my_hand=[5,7,7]\n",
        "    ncards=3\n",
        "    while (sum(my_hand)<21):\n",
        "        card=r.choice(poker_deck)\n",
        "        my_hand.append(card)\n",
        "        poker_deck.remove(card)\n",
        "        ncards=ncards+1\n",
        "    if (sum(my_hand)==21):\n",
        "        count=count+1\n",
        "        avnc=avnc+ncards\n",
        "        cards[ncards]=cards[ncards]+1\n",
        "print(\"21 probability: \", count/n,\"Average number of cards: \",avnc/count)\n",
        "plt.bar(cards.keys(), cards.values(),1, color='g')\n",
        "plt.show()\n"
      ],
      "execution_count": null,
      "outputs": [
        {
          "output_type": "stream",
          "text": [
            "21 probability:  0.0799787 Average number of cards:  4.0385840229961225\n"
          ],
          "name": "stdout"
        },
        {
          "output_type": "display_data",
          "data": {
            "image/png": "[encoded data removed]",
            "text/plain": [
              "<Figure size 432x288 with 1 Axes>"
            ]
          },
          "metadata": {
            "tags": [],
            "needs_background": "light"
          }
        }
      ]
    },
    {
      "cell_type": "code",
      "metadata": {
        "id": "odS4ertnJoT_",
        "outputId": "f959eb3a-9e91-4cd1-8f35-7e199a73d749",
        "colab": {
          "base_uri": "https://localhost:8080/",
          "height": 35
        }
      },
      "source": [
        "2/26+2/26*1/25"
      ],
      "execution_count": null,
      "outputs": [
        {
          "output_type": "execute_result",
          "data": {
            "text/plain": [
              "0.08"
            ]
          },
          "metadata": {
            "tags": []
          },
          "execution_count": 49
        }
      ]
    },
    {
      "cell_type": "markdown",
      "metadata": {
        "id": "3nm4mL9TLGfm"
      },
      "source": [
        "# 4. Highest and Lowest probability"
      ]
    },
    {
      "cell_type": "markdown",
      "metadata": {
        "id": "3LablCCe0Yca"
      },
      "source": [
        "##*Analytical probabilities*\n",
        "Assuming that you have in your hand the cards [7,7,5], and in the deck just be with 12 cards\n",
        "\n"
      ]
    },
    {
      "cell_type": "markdown",
      "metadata": {
        "id": "179WOs22Yl7W"
      },
      "source": [
        ""
      ]
    },
    {
      "cell_type": "markdown",
      "metadata": {
        "id": "iz-MPnlIC9mF"
      },
      "source": [
        "###*Hot Deck*\n",
        "\n",
        "The Hot Deck gets with four cards with the number one, four with the number two and other four cards,that is to say twelve cards in total. For win, you have to get one card with the number two or two cards with the number one.\n",
        "\n",
        "\n",
        "In the first case, the probability to get a card with the number two is $\\frac{1}{3}$, because the probability to get a card is $\\frac{1}{12}$ and in the deck there are four cards with this number, so the probability is $\\frac{1}{12}*4=\\frac{4}{12}$\n",
        "\n",
        "\n",
        "The second case, the probability to get the first card with the number one is $\\frac{1}{3}$ and the second card is $\\frac{3}{11}$, then the probability to get two cards with the number one is $\\frac{4}{12} * \\frac{3}{11}=\\frac{1}{11}$  \n",
        "\n",
        "Therefore the combinated probability is the sum of the two cases: $\\frac{1}{3} + \\frac{1}{11} = \\frac{14}{33}$\n"
      ]
    },
    {
      "cell_type": "code",
      "metadata": {
        "id": "qRAbMtom-Sjw",
        "outputId": "efba9eaa-c724-406f-ce71-8b0b6ba74ca5",
        "colab": {
          "base_uri": "https://localhost:8080/",
          "height": 35
        }
      },
      "source": [
        "4/12+4/12*3/11"
      ],
      "execution_count": null,
      "outputs": [
        {
          "output_type": "execute_result",
          "data": {
            "text/plain": [
              "0.4242424242424242"
            ]
          },
          "metadata": {
            "tags": []
          },
          "execution_count": 50
        }
      ]
    },
    {
      "cell_type": "markdown",
      "metadata": {
        "id": "_7ttTLePC8xD"
      },
      "source": [
        "###*Cold Deck*\n",
        "The cold deck get with twelve cards diferents to the cards with the number one and two, if have the sum of 19 in your hand. For win, the probability is zero, $\\frac{0}{12} = 0$"
      ]
    },
    {
      "cell_type": "markdown",
      "metadata": {
        "id": "975XE_EQZL_q"
      },
      "source": [
        "##Probability with hot deck for Spanish 48-card deck and Poker 52-card deck"
      ]
    },
    {
      "cell_type": "markdown",
      "metadata": {
        "id": "UTU7MgMALJN3"
      },
      "source": [
        "Calculate analytically the probabilities of getting a 21 with a hot deck with 12 cards[1,1,1,1,2,2,2,2,3,3,3,3], estimate this probabilities of getting a 21, the average total number of cards required to complete 21 (including the three that you start with) and plot the experimental distribution of the total number of card required to complete 21 (including the three that you start with) using Montecarlo with 10 millions simulations."
      ]
    },
    {
      "cell_type": "code",
      "metadata": {
        "id": "JoBTaWQfM-Vw",
        "outputId": "28e680a1-8b06-4cda-c6a1-40e12c8f14ab",
        "colab": {
          "base_uri": "https://localhost:8080/",
          "height": 294
        }
      },
      "source": [
        "n=10000000\n",
        "count=0\n",
        "avnc=0\n",
        "cards={2:0,3:0,4:0,5:0,6:0,7:0,8:0,9:0,10:0,11:0}\n",
        "for i in range(n):\n",
        "    hot_deck=[1,1,1,1,2,2,2,2,3,3,3,3]\n",
        "    my_hand=[5,7,7]\n",
        "    ncards=3\n",
        "    while (sum(my_hand)<21):\n",
        "        card=r.choice(hot_deck)\n",
        "        my_hand.append(card)\n",
        "        hot_deck.remove(card)\n",
        "        ncards=ncards+1\n",
        "    if (sum(my_hand)==21):\n",
        "        count=count+1\n",
        "        avnc=avnc+ncards\n",
        "        cards[ncards]=cards[ncards]+1\n",
        "print(\"21 probability: \", count/n,\"Average number of cards: \",avnc/count)\n",
        "plt.bar(cards.keys(), cards.values(),1, color='g')\n",
        "plt.show()\n"
      ],
      "execution_count": null,
      "outputs": [
        {
          "output_type": "stream",
          "text": [
            "21 probability:  0.4240681 Average number of cards:  4.214545729801416\n"
          ],
          "name": "stdout"
        },
        {
          "output_type": "display_data",
          "data": {
            "image/png": "[encoded data removed]",
            "text/plain": [
              "<Figure size 432x288 with 1 Axes>"
            ]
          },
          "metadata": {
            "tags": [],
            "needs_background": "light"
          }
        }
      ]
    },
    {
      "cell_type": "markdown",
      "metadata": {
        "id": "essgueVDZJj_"
      },
      "source": [
        "##Probability with cold deck for Spanish 48-card deck and Poker 52-card deck"
      ]
    },
    {
      "cell_type": "markdown",
      "metadata": {
        "id": "iDo5n5MFRdZg"
      },
      "source": [
        "Calculate analytically the probabilities of getting a 21 with a cold deck with 12 cards [10,10,10,10,10,10,10,10,10,10,10,10], estimate this probabilities of getting a 21, the average total number of cards required to complete 21 (including the three that you start with) and plot the experimental distribution of the total number of card required to complete 21 (including the three that you start with) using Montecarlo with 10 millions simulations."
      ]
    },
    {
      "cell_type": "code",
      "metadata": {
        "id": "CRkB_NltSVX5",
        "outputId": "b1135153-ea6b-4074-ede4-1909777511e4",
        "colab": {
          "base_uri": "https://localhost:8080/",
          "height": 283
        }
      },
      "source": [
        "n=10000000\n",
        "count=0\n",
        "avnc=0\n",
        "cards={2:0,3:0,4:0,5:0,6:0,7:0,8:0,9:0,10:0,11:0}\n",
        "for i in range(n):\n",
        "    cold_deck=[10,10,10,10,10,10,10,10,10,10,10,10]\n",
        "    my_hand=[5,7,7]\n",
        "    ncards=3\n",
        "    while (sum(my_hand)<21):\n",
        "        card=r.choice(cold_deck)\n",
        "        my_hand.append(card)\n",
        "        cold_deck.remove(card)\n",
        "        ncards=ncards+1\n",
        "    if (sum(my_hand)==21):\n",
        "        count=count+1\n",
        "        avnc=avnc+ncards\n",
        "        cards[ncards]=cards[ncards]+1\n",
        "print(\"21 probability: \", count/n)\n",
        "plt.bar(cards.keys(), cards.values(),1, color='g')\n",
        "plt.show()\n"
      ],
      "execution_count": null,
      "outputs": [
        {
          "output_type": "stream",
          "text": [
            "21 probability:  0.0\n"
          ],
          "name": "stdout"
        },
        {
          "output_type": "display_data",
          "data": {
            "image/png": "[encoded data removed]",
            "text/plain": [
              "<Figure size 432x288 with 1 Axes>"
            ]
          },
          "metadata": {
            "tags": [],
            "needs_background": "light"
          }
        }
      ]
    },
    {
      "cell_type": "markdown",
      "metadata": {
        "id": "nWpcD-BZkndP"
      },
      "source": [
        "#5. Ben goes to Vegas\n",
        "Estimate the average amount of money (expected value) that Ben wins or losses on a weekend if Ben goes to Vegas every weekend (Friday, Saturday and Sunday), plays every weekend day 10 hours, each game takes 3 mins. Assume that for each game he gets two possibilities, in one he gets in his hand the cards [7,7,5] and a remaining hot deck cards with 12 cards for Alg Gr 1 9-11 and with 10 cards for Alg Gr 2 11-1 which case he bets 1000 this happens with probability 1/10; in the other one he gets no cards in his hand a complete shuffled deck in which case he bets $10, this happens with the remaining probability 9/10. Use 10000 Montecarlo simulations to estimated the expected amount of money that Ben wins or losses on a weekend for a Spanish 48-card deck with 3 10’s and for a Poker 52-card deck with 4 10’s."
      ]
    },
    {
      "cell_type": "markdown",
      "metadata": {
        "id": "zl3MR1N_1wHP"
      },
      "source": [
        "##Spanish 48-card deck"
      ]
    },
    {
      "cell_type": "code",
      "metadata": {
        "id": "S0s9H_FJ1Zaf",
        "outputId": "3855142e-d217-47ca-ac97-eb1d5d1dfc65",
        "colab": {
          "base_uri": "https://localhost:8080/",
          "height": 283
        }
      },
      "source": [
        "nwekend=10000\n",
        "game_wekend=600\n",
        "coutn=0\n",
        "avnc=0\n",
        "wekends_money=[]\n",
        "cards={2:0,3:0,4:0,5:0,6:0,7:0,8:0,9:0,10:0,11:0}\n",
        "for w in range(nwekend):\n",
        "  wmoney=0\n",
        "  for g in range(game_wekend):\n",
        "    if (r.uniform(0,1)<0.1):\n",
        "      deck=[1,1,1,1,2,2,2,2,3,3,3,3]\n",
        "      my_hand=[5,7,7]\n",
        "      ncards=3\n",
        "      while (sum(my_hand)<21):\n",
        "          card=r.choice(deck)\n",
        "          my_hand.append(card)\n",
        "          deck.remove(card)\n",
        "          ncards=ncards+1\n",
        "      if (sum(my_hand)==21):\n",
        "          count=count+1\n",
        "          avnc=avnc+ncards\n",
        "          cards[ncards]=cards[ncards]+1\n",
        "          wmoney=wmoney+1000\n",
        "      else:\n",
        "        wmoney = wmoney-1000\n",
        "      if (minc21>ncards):\n",
        "          minc21=ncards\n",
        "      elif (maxc21<ncards):\n",
        "          maxc21=ncards\n",
        "    else:\n",
        "      deck=[1,2,3,4,5,6,7,8,9,10,10,10,1,2,3,4,5,6,7,8,9,10,10,10,1,2,3,4,5,6,7,8,9,10,10,10,1,2,3,4,5,6,7,8,9,10,10,10]\n",
        "      my_hand=[]\n",
        "      ncards=0\n",
        "      while (sum(my_hand)<21):\n",
        "          card=r.choice(deck)\n",
        "          my_hand.append(card)\n",
        "          deck.remove(card)\n",
        "          ncards=ncards+1\n",
        "      if (sum(my_hand)==21):\n",
        "          count=count+1\n",
        "          avnc=avnc+ncards\n",
        "          cards[ncards]=cards[ncards]+1\n",
        "          wmoney=wmoney+10\n",
        "      else:\n",
        "        wmoney=wmoney-10\n",
        "  wekends_money.append(wmoney)\n",
        "\n",
        "print(\"21 probability: \", count/n,\"average money weekedn: \",np.average(wekends_money))\n",
        "plt.hist(wekends_money)\n",
        "plt.show()\n",
        "\n"
      ],
      "execution_count": null,
      "outputs": [
        {
          "output_type": "stream",
          "text": [
            "21 probability:  0.1061861 average money weekedn:  -12989.228\n"
          ],
          "name": "stdout"
        },
        {
          "output_type": "display_data",
          "data": {
            "image/png": "[encoded data removed]",
            "text/plain": [
              "<Figure size 432x288 with 1 Axes>"
            ]
          },
          "metadata": {
            "tags": [],
            "needs_background": "light"
          }
        }
      ]
    },
    {
      "cell_type": "markdown",
      "metadata": {
        "id": "v6G_rBot8UJB"
      },
      "source": [
        "##Poker 52-card deck"
      ]
    },
    {
      "cell_type": "code",
      "metadata": {
        "id": "0DGJ_oKz8UiB",
        "outputId": "66d52133-ee87-4594-b372-f2b37f428985",
        "colab": {
          "base_uri": "https://localhost:8080/",
          "height": 283
        }
      },
      "source": [
        "nweekend=10000\n",
        "game_weekend=600\n",
        "coutn=0\n",
        "avnc=0\n",
        "weekends_money=[]\n",
        "nc21={2:0,3:0,4:0,5:0,6:0,7:0,8:0,9:0,10:0,11:0}\n",
        "for w in range(nweekend):\n",
        "  wmoney=0\n",
        "  for g in range(game_weekend):\n",
        "    if (r.uniform(0,1)<0.1):\n",
        "      deck=[1,1,1,1,2,2,2,2,3,3,3,3]\n",
        "      my_hand=[5,7,7]\n",
        "      ncards=3\n",
        "      while (sum(my_hand)<21):\n",
        "          card=r.choice(deck)\n",
        "          my_hand.append(card)\n",
        "          deck.remove(card)\n",
        "          ncards=ncards+1\n",
        "      if (sum(my_hand)==21):\n",
        "          count=count+1\n",
        "          avnc=avnc+ncards\n",
        "          nc21[ncards]=nc21[ncards]+1\n",
        "          wmoney=wmoney+1000\n",
        "      else:\n",
        "        wmoney = wmoney-1000\n",
        "      if (minc21>ncards):\n",
        "          minc21=ncards\n",
        "      elif (maxc21<ncards):\n",
        "          maxc21=ncards\n",
        "    else:\n",
        "      deck=[1,2,3,4,5,6,7,8,9,10,10,10,10,1,2,3,4,5,6,7,8,9,10,10,10,10,1,2,3,4,5,6,7,8,9,10,10,10,10,1,2,3,4,5,6,7,8,9,10,10,10,10]\n",
        "      my_hand=[]\n",
        "      ncards=0\n",
        "      while (sum(my_hand)<21):\n",
        "          card=r.choice(deck)\n",
        "          my_hand.append(card)\n",
        "          deck.remove(card)\n",
        "          ncards=ncards+1\n",
        "      if (sum(my_hand)==21):\n",
        "          count=count+1\n",
        "          avnc=avnc+ncards\n",
        "          nc21[ncards]=nc21[ncards]+1\n",
        "          wmoney=wmoney+10\n",
        "      else:\n",
        "        wmoney=wmoney-10\n",
        "  weekends_money.append(wmoney)\n",
        "\n",
        "print(\"21 probability: \", count/n,\"average money weekedn: \",np.average(weekends_money))\n",
        "plt.hist(weekends_money)\n",
        "plt.show()\n",
        "\n"
      ],
      "execution_count": null,
      "outputs": [
        {
          "output_type": "stream",
          "text": [
            "21 probability:  0.2073192 average money weekedn:  -12858.232\n"
          ],
          "name": "stdout"
        },
        {
          "output_type": "display_data",
          "data": {
            "image/png": "[encoded data removed]",
            "text/plain": [
              "<Figure size 432x288 with 1 Axes>"
            ]
          },
          "metadata": {
            "tags": [],
            "needs_background": "light"
          }
        }
      ]
    },
    {
      "cell_type": "markdown",
      "metadata": {
        "id": "aTSGw9tS-6Ix"
      },
      "source": [
        "###6.Calculate analytically the average amount of money (expected values) that Ben wins or losses on a weekend for a Spanish 48-card deck with 3 10’s and for a Poker 52-card deck with 4 10’s."
      ]
    },
    {
      "cell_type": "markdown",
      "metadata": {
        "id": "na24xvYrAcM8"
      },
      "source": [
        "###Expected amount of money for each game with a hot deck with 12 cards[1,1,1,1,2,2,2,2,3,3,3,3]"
      ]
    },
    {
      "cell_type": "code",
      "metadata": {
        "id": "qBgi9Prv_iKa",
        "outputId": "9f3761d4-2c92-435a-d143-33be5eb0e198",
        "colab": {
          "base_uri": "https://localhost:8080/",
          "height": 35
        }
      },
      "source": [
        "(1000*0.4242424242424242)+(-1000*(1-0.4242424242424242))"
      ],
      "execution_count": null,
      "outputs": [
        {
          "output_type": "execute_result",
          "data": {
            "text/plain": [
              "-151.51515151515156"
            ]
          },
          "metadata": {
            "tags": []
          },
          "execution_count": 55
        }
      ]
    },
    {
      "cell_type": "markdown",
      "metadata": {
        "id": "8_bNERxXbwSC"
      },
      "source": [
        "###Expected amount of money for each game with Spanish 48-card"
      ]
    },
    {
      "cell_type": "code",
      "metadata": {
        "id": "HMM-qP6_b6Ht",
        "outputId": "a662e96d-fa26-40e0-e2cc-526aedd40dfa",
        "colab": {
          "base_uri": "https://localhost:8080/",
          "height": 35
        }
      },
      "source": [
        "(10*0.1498247)+(-10*(1-0.1498247))"
      ],
      "execution_count": null,
      "outputs": [
        {
          "output_type": "execute_result",
          "data": {
            "text/plain": [
              "-7.003505999999999"
            ]
          },
          "metadata": {
            "tags": []
          },
          "execution_count": 56
        }
      ]
    },
    {
      "cell_type": "markdown",
      "metadata": {
        "id": "zm6lEzKzcZJX"
      },
      "source": [
        "###Expected amount of money for each game with Poker 52-card"
      ]
    },
    {
      "cell_type": "code",
      "metadata": {
        "id": "qqO-yiZKcowK",
        "outputId": "22a9ecc1-e2c5-4f4e-cd9e-22195b95ae03",
        "colab": {
          "base_uri": "https://localhost:8080/",
          "height": 35
        }
      },
      "source": [
        "(10*0.1402644)+(-10*(1-0.1402644))"
      ],
      "execution_count": null,
      "outputs": [
        {
          "output_type": "execute_result",
          "data": {
            "text/plain": [
              "-7.194712000000001"
            ]
          },
          "metadata": {
            "tags": []
          },
          "execution_count": 57
        }
      ]
    },
    {
      "cell_type": "markdown",
      "metadata": {
        "id": "pFal1MYzc4yw"
      },
      "source": [
        "###Expected amount of money for each game with Spanish 48-card is"
      ]
    },
    {
      "cell_type": "code",
      "metadata": {
        "id": "3qZUD_qwdFC0",
        "outputId": "9c997a1a-812c-4bb1-f86c-40a4e3cda354",
        "colab": {
          "base_uri": "https://localhost:8080/",
          "height": 35
        }
      },
      "source": [
        "(-151.51515151515156*0.1)+(-7.003505999999999*0.9) "
      ],
      "execution_count": null,
      "outputs": [
        {
          "output_type": "execute_result",
          "data": {
            "text/plain": [
              "-21.454670551515154"
            ]
          },
          "metadata": {
            "tags": []
          },
          "execution_count": 58
        }
      ]
    },
    {
      "cell_type": "markdown",
      "metadata": {
        "id": "lhIDP34fdfyX"
      },
      "source": [
        "Expected amount of money for each game with Spanish 48-card is\n"
      ]
    },
    {
      "cell_type": "code",
      "metadata": {
        "id": "_qHgGPHHdiAR",
        "outputId": "3cc0ff92-7df2-4f1b-ef13-aa29f1119669",
        "colab": {
          "base_uri": "https://localhost:8080/",
          "height": 35
        }
      },
      "source": [
        "-21.454670551515154*600"
      ],
      "execution_count": null,
      "outputs": [
        {
          "output_type": "execute_result",
          "data": {
            "text/plain": [
              "-12872.802330909091"
            ]
          },
          "metadata": {
            "tags": []
          },
          "execution_count": 59
        }
      ]
    },
    {
      "cell_type": "markdown",
      "metadata": {
        "id": "-_bNqNhZduMl"
      },
      "source": [
        "###Expected amount of money for each game with Poker 52-card is"
      ]
    },
    {
      "cell_type": "code",
      "metadata": {
        "id": "FKbXUVlJdtcn",
        "outputId": "022b2cc7-5770-4022-f866-cfeb3f9355ed",
        "colab": {
          "base_uri": "https://localhost:8080/",
          "height": 35
        }
      },
      "source": [
        "(-151.51515151515156*0.1)+(-7.194712000000001*0.9) "
      ],
      "execution_count": null,
      "outputs": [
        {
          "output_type": "execute_result",
          "data": {
            "text/plain": [
              "-21.626755951515158"
            ]
          },
          "metadata": {
            "tags": []
          },
          "execution_count": 60
        }
      ]
    },
    {
      "cell_type": "markdown",
      "metadata": {
        "id": "0SA-ZBUxeFgm"
      },
      "source": [
        "Expected amount of money for each game with Poker 52-card is"
      ]
    },
    {
      "cell_type": "code",
      "metadata": {
        "id": "KBoNAhrzeGgV",
        "outputId": "eb6b4006-788b-4923-b306-a1b90d2b88c1",
        "colab": {
          "base_uri": "https://localhost:8080/",
          "height": 35
        }
      },
      "source": [
        "-21.626755951515158*600"
      ],
      "execution_count": null,
      "outputs": [
        {
          "output_type": "execute_result",
          "data": {
            "text/plain": [
              "-12976.053570909095"
            ]
          },
          "metadata": {
            "tags": []
          },
          "execution_count": 61
        }
      ]
    }
  ]
}