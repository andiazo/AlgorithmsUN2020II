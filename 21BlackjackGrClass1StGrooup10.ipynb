{
  "nbformat": 4,
  "nbformat_minor": 0,
  "metadata": {
    "colab": {
      "name": "21BlackjackGrClass1StGrooup10.ipynb",
      "provenance": [],
      "collapsed_sections": []
    },
    "kernelspec": {
      "name": "python3",
      "display_name": "Python 3"
    }
  },
  "cells": [
    {
      "cell_type": "markdown",
      "metadata": {
        "id": "FsRtxyOJkgqA",
        "colab_type": "text"
      },
      "source": [
        "# Lab 4: Monte Carlo – 21 Blackjack\n",
        "Members\n",
        "\n",
        "*   Andres David Diaz Obando\n",
        "*   Danier Elian Gonzalez Ordoñez\n",
        "*   Gustavo Adolfo Mojica Perdigon\n",
        "\n",
        "\n",
        "\n"
      ]
    },
    {
      "cell_type": "markdown",
      "metadata": {
        "id": "6x4n1mxpkP8W",
        "colab_type": "text"
      },
      "source": [
        "# 1. Probability of getting a 21\n",
        "Calculate the probability of getting a 21 drawing cards sequentially from shuffled Spanish 48-deck with card values [1,2,3,4,5,6,7,10,11,12,1,2,3,4,5,6,7,8,9,10,11,12,1,2,3,4,5,6,7,8,9,10,11,12,1,2,3,4,5,6,7,8,9,10,11,12] and from a shuffled Poker 52-card with card values [1,2,3,4,5,6,7,8,9,10,11,12,13,1,2,3,4,5,6,7,8,9,10,11,12,13,1,2,3,4,5,6,7,8,9,10,11,12,13,1,2,3,4,5,6,7,8,9,10,11,12,13]. Plot the experimental distribution of the numbers of card requires to complete 21 in 10000 trials."
      ]
    },
    {
      "cell_type": "code",
      "metadata": {
        "id": "YFIscGkMke6R",
        "colab_type": "code",
        "colab": {}
      },
      "source": [
        "import matplotlib.pyplot as plt\n",
        "import numpy as np\n",
        "import random as r"
      ],
      "execution_count": 1,
      "outputs": []
    },
    {
      "cell_type": "markdown",
      "metadata": {
        "id": "5nB7YEQvv2Kb",
        "colab_type": "text"
      },
      "source": [
        "### Poker deck"
      ]
    },
    {
      "cell_type": "code",
      "metadata": {
        "id": "CRHPGPV-ky0P",
        "colab_type": "code",
        "colab": {
          "base_uri": "https://localhost:8080/",
          "height": 0
        },
        "outputId": "e206a15a-ff7c-4fd4-9528-c751599bf87c"
      },
      "source": [
        "# n : number of trials; count : times won; avnc : average number of cards\n",
        "n = 100000\n",
        "count = 0\n",
        "avnc = 0\n",
        "\n",
        "# Monte Carlo method for poker deck\n",
        "for i in range(n):\n",
        "  \n",
        "  poker_deck = [1,2,3,4,5,6,7,8,9,10,11,12,13,1,2,3,4,5,6,7,8,9,10,11,12,13,1,2,3,4,5,6,7,8,9,10,11,12,13,1,2,3,4,5,6,7,8,9,10,11,12,13]\n",
        "  my_hand = []\n",
        "  nc = 0 # number of cards\n",
        "\n",
        "  while (sum(my_hand) < 21):\n",
        "    card = r.choice(poker_deck)\n",
        "    my_hand.append(card)\n",
        "    poker_deck.remove(card)\n",
        "    nc += 1\n",
        "  \n",
        "  if (sum(my_hand)==21):\n",
        "    count += 1\n",
        "    avnc += nc\n",
        "\n",
        "# print results\n",
        "print(\"21 Blackjack - Poker deck\")\n",
        "print(\"\\nProbability of complete 21: \", count/n)\n",
        "print(\"Average number of cards: \", avnc/count, \"\\n\")"
      ],
      "execution_count": 2,
      "outputs": [
        {
          "output_type": "stream",
          "text": [
            "21 Blackjack - Poker deck\n",
            "\n",
            "Probability of complete 21:  0.14476\n",
            "Average number of cards:  3.201505940867643 \n",
            "\n"
          ],
          "name": "stdout"
        }
      ]
    },
    {
      "cell_type": "code",
      "metadata": {
        "id": "FygaenbSqFcy",
        "colab_type": "code",
        "colab": {
          "base_uri": "https://localhost:8080/",
          "height": 0
        },
        "outputId": "d76477ad-a611-4174-813d-e5cc6e751be6"
      },
      "source": [
        "n = 10000\n",
        "count = 0\n",
        "avnc = 0\n",
        "nc_to_win = []\n",
        "\n",
        "for i in range(n):\n",
        "  poker_deck = [1,2,3,4,5,6,7,8,9,10,11,12,13,1,2,3,4,5,6,7,8,9,10,11,12,13,1,2,3,4,5,6,7,8,9,10,11,12,13,1,2,3,4,5,6,7,8,9,10,11,12,13]\n",
        "  my_hand = []\n",
        "  nc = 0\n",
        "  while (sum(my_hand) < 21):\n",
        "    card = r.choice(poker_deck)\n",
        "    my_hand.append(card)\n",
        "    poker_deck.remove(card)\n",
        "    nc += 1\n",
        "  if (sum(my_hand)==21):\n",
        "    count += 1\n",
        "    avnc += nc\n",
        "    nc_to_win.append(nc)\n",
        "\n",
        "plt.figure()\n",
        "plt.hist(nc_to_win, density=True, bins=13)\n",
        "plt.title(\"Distribution of the numbers of card requires to complete 21\")\n",
        "plt.xlabel(\"Number of cards\")\n",
        "plt.ylabel(\"Relative Frequency\")\n",
        "plt.show\n",
        "\n",
        "print(\"21 Blackjack - Poker deck\")\n",
        "print(\"\\nProbability of complete 21: \",count/n)\n",
        "print(\"Average number of cards: \",avnc/count,\"\\n\")"
      ],
      "execution_count": 3,
      "outputs": [
        {
          "output_type": "stream",
          "text": [
            "21 Blackjack - Poker deck\n",
            "\n",
            "Probability of complete 21:  0.1419\n",
            "Average number of cards:  3.2142353770260748 \n",
            "\n"
          ],
          "name": "stdout"
        },
        {
          "output_type": "display_data",
          "data": {
            "image/png": "[encoded data removed]",
            "text/plain": [
              "<Figure size 432x288 with 1 Axes>"
            ]
          },
          "metadata": {
            "tags": [],
            "needs_background": "light"
          }
        }
      ]
    },
    {
      "cell_type": "markdown",
      "metadata": {
        "id": "G88aEABuv7Xh",
        "colab_type": "text"
      },
      "source": [
        "### Spanish deck"
      ]
    },
    {
      "cell_type": "code",
      "metadata": {
        "id": "zn2CGfrDv98F",
        "colab_type": "code",
        "colab": {
          "base_uri": "https://localhost:8080/",
          "height": 0
        },
        "outputId": "e49042f9-93c6-45e9-e44d-2ed98f02f4a8"
      },
      "source": [
        "# n : number of trials; count : times won; avnc : average number of cards\n",
        "n = 100000\n",
        "count = 0\n",
        "avnc = 0\n",
        "\n",
        "# Monte Carlo method for spanish deck\n",
        "for i in range(n):\n",
        "  \n",
        "  spanish_deck = [1,2,3,4,5,6,7,8,9,10,11,12,1,2,3,4,5,6,7,8,9,10,11,12,1,2,3,4,5,6,7,8,9,10,11,12,1,2,3,4,5,6,7,8,9,10,11,12]\n",
        "  my_hand = []\n",
        "  nc = 0 # number of cards\n",
        "\n",
        "  while (sum(my_hand) < 21):\n",
        "    card = r.choice(spanish_deck)\n",
        "    my_hand.append(card)\n",
        "    spanish_deck.remove(card)\n",
        "    nc += 1\n",
        "  \n",
        "  if (sum(my_hand)==21):\n",
        "    count += 1\n",
        "    avnc += nc\n",
        "\n",
        "# print results\n",
        "print(\"21 Blackjack - Spanish deck\")\n",
        "print(\"\\nProbability of complete 21: \", count/n)\n",
        "print(\"Average number of cards: \", avnc/count, \"\\n\")"
      ],
      "execution_count": 4,
      "outputs": [
        {
          "output_type": "stream",
          "text": [
            "21 Blackjack - Spanish deck\n",
            "\n",
            "Probability of complete 21:  0.15908\n",
            "Average number of cards:  3.4203545385969325 \n",
            "\n"
          ],
          "name": "stdout"
        }
      ]
    },
    {
      "cell_type": "code",
      "metadata": {
        "id": "SB9n50s2wh5Y",
        "colab_type": "code",
        "colab": {
          "base_uri": "https://localhost:8080/",
          "height": 0
        },
        "outputId": "37c8534e-a5fd-4245-ff23-ecd795bff352"
      },
      "source": [
        "n = 100000\n",
        "count = 0\n",
        "avnc = 0\n",
        "nc_to_win = []\n",
        "\n",
        "for i in range(n):\n",
        "  spanish_deck = [1,2,3,4,5,6,7,8,9,10,11,12,1,2,3,4,5,6,7,8,9,10,11,12,1,2,3,4,5,6,7,8,9,10,11,12,1,2,3,4,5,6,7,8,9,10,11,12]\n",
        "  my_hand = []\n",
        "  nc = 0\n",
        "  while (sum(my_hand) < 21):\n",
        "    card = r.choice(spanish_deck)\n",
        "    my_hand.append(card)\n",
        "    spanish_deck.remove(card)\n",
        "    nc += 1\n",
        "  if (sum(my_hand)==21):\n",
        "    count += 1\n",
        "    avnc += nc\n",
        "    nc_to_win.append(nc)\n",
        "\n",
        "plt.figure()\n",
        "plt.hist(nc_to_win, density=True, bins=13)\n",
        "plt.title(\"Distribution of the numbers of card requires to complete 21\")\n",
        "plt.xlabel(\"Number of cards\")\n",
        "plt.ylabel(\"Relative Frequency\")\n",
        "plt.show\n",
        "\n",
        "print(\"21 Blackjack - Spanish deck\")\n",
        "print(\"\\nProbability of complete 21: \",count/n)\n",
        "print(\"Average number of cards: \",avnc/count,\"\\n\")"
      ],
      "execution_count": 5,
      "outputs": [
        {
          "output_type": "stream",
          "text": [
            "21 Blackjack - Spanish deck\n",
            "\n",
            "Probability of complete 21:  0.16013\n",
            "Average number of cards:  3.4180353462811466 \n",
            "\n"
          ],
          "name": "stdout"
        },
        {
          "output_type": "display_data",
          "data": {
            "image/png": "[encoded data removed]",
            "text/plain": [
              "<Figure size 432x288 with 1 Axes>"
            ]
          },
          "metadata": {
            "tags": [],
            "needs_background": "light"
          }
        }
      ]
    },
    {
      "cell_type": "markdown",
      "metadata": {
        "id": "CNN77G6m3qxy",
        "colab_type": "text"
      },
      "source": [
        "# 2. Probability of getting a 21 with a custom deck\n",
        "Calculate the probability of getting a 21 drawing cards sequentially from shuffled Spanish 48-deck with card values are [1,2,3,4,5,6,7,8,9,,10,10,10,1,2,3,4,5,6,7,8,9,,10,10,10,1,2,3,4,5,6,7,8,9,10,10,10,1,2,3,4,5,6,7,8,9,,10,10,10] and [1,2,3,4,5,6,7,8,9,10,10,10,10,1,2,3,4,5,6,7,8,9,10,10,10,10,1,2,3,4,5,6,7,8,9,10,10,10,10,1,2,3,4,5,6,7,8,9,10,10,10,10] for the Spanish and Poker card decks. Plot the experimental distribution of the numbers of card requires to complete 21 in 10000 simulations."
      ]
    },
    {
      "cell_type": "markdown",
      "metadata": {
        "id": "pGFvSgiv5WcN",
        "colab_type": "text"
      },
      "source": [
        "### Poker deck\n"
      ]
    },
    {
      "cell_type": "code",
      "metadata": {
        "id": "gwumc5QS4dKd",
        "colab_type": "code",
        "colab": {
          "base_uri": "https://localhost:8080/",
          "height": 0
        },
        "outputId": "d456b7b5-d5db-459f-e192-f9004f9cad34"
      },
      "source": [
        "# n : number of trials; count : times won; avnc : average number of cards\n",
        "n = 100000\n",
        "count = 0\n",
        "avnc = 0\n",
        "\n",
        "# Monte Carlo method for poker deck\n",
        "for i in range(n):\n",
        "  \n",
        "  poker_deck = [1,2,3,4,5,6,7,8,9,10,10,10,10,1,2,3,4,5,6,7,8,9,10,10,10,10,1,2,3,4,5,6,7,8,9,10,10,10,10,1,2,3,4,5,6,7,8,9,10,10,10,10]\n",
        "  my_hand = []\n",
        "  nc = 0 # number of cards\n",
        "\n",
        "  while (sum(my_hand) < 21):\n",
        "    card = r.choice(poker_deck)\n",
        "    my_hand.append(card)\n",
        "    poker_deck.remove(card)\n",
        "    nc += 1\n",
        "  \n",
        "  if (sum(my_hand)==21):\n",
        "    count += 1\n",
        "    avnc += nc\n",
        "\n",
        "# print results\n",
        "print(\"21 Blackjack - Poker deck\")\n",
        "print(\"\\nProbability of complete 21: \", count/n)\n",
        "print(\"Average number of cards: \", avnc/count, \"\\n\")"
      ],
      "execution_count": 6,
      "outputs": [
        {
          "output_type": "stream",
          "text": [
            "21 Blackjack - Poker deck\n",
            "\n",
            "Probability of complete 21:  0.14024\n",
            "Average number of cards:  3.5808613804905876 \n",
            "\n"
          ],
          "name": "stdout"
        }
      ]
    },
    {
      "cell_type": "code",
      "metadata": {
        "id": "x8pm7r1I5Kl7",
        "colab_type": "code",
        "colab": {
          "base_uri": "https://localhost:8080/",
          "height": 0
        },
        "outputId": "8dd4303f-8dd4-4399-99a7-14cc244531ea"
      },
      "source": [
        "n = 10000\n",
        "count = 0\n",
        "avnc = 0\n",
        "nc_to_win = []\n",
        "\n",
        "for i in range(n):\n",
        "  \n",
        "  poker_deck = [1,2,3,4,5,6,7,8,9,10,10,10,10,1,2,3,4,5,6,7,8,9,10,10,10,10,1,2,3,4,5,6,7,8,9,10,10,10,10,1,2,3,4,5,6,7,8,9,10,10,10,10]\n",
        "  my_hand = []\n",
        "  nc = 0\n",
        "  while (sum(my_hand) < 21):\n",
        "    card = r.choice(poker_deck)\n",
        "    my_hand.append(card)\n",
        "    poker_deck.remove(card)\n",
        "    nc += 1\n",
        "  if (sum(my_hand)==21):\n",
        "    count += 1\n",
        "    avnc += nc\n",
        "    nc_to_win.append(nc)\n",
        "\n",
        "plt.figure()\n",
        "plt.hist(nc_to_win, density=True, bins=13)\n",
        "plt.title(\"Distribution of the numbers of card requires to complete 21\")\n",
        "plt.xlabel(\"Number of cards\")\n",
        "plt.ylabel(\"Relative Frequency\")\n",
        "plt.show\n",
        "\n",
        "print(\"21 Blackjack - Poker deck\")\n",
        "print(\"\\nProbability of complete 21: \",count/n)\n",
        "print(\"Average number of cards: \",avnc/count,\"\\n\")"
      ],
      "execution_count": 7,
      "outputs": [
        {
          "output_type": "stream",
          "text": [
            "21 Blackjack - Poker deck\n",
            "\n",
            "Probability of complete 21:  0.146\n",
            "Average number of cards:  3.5294520547945205 \n",
            "\n"
          ],
          "name": "stdout"
        },
        {
          "output_type": "display_data",
          "data": {
            "image/png": "[encoded data removed]",
            "text/plain": [
              "<Figure size 432x288 with 1 Axes>"
            ]
          },
          "metadata": {
            "tags": [],
            "needs_background": "light"
          }
        }
      ]
    },
    {
      "cell_type": "markdown",
      "metadata": {
        "id": "AZB5Z3sK5a2E",
        "colab_type": "text"
      },
      "source": [
        "### Spanish deck"
      ]
    },
    {
      "cell_type": "code",
      "metadata": {
        "id": "TCHLHJVs5dYL",
        "colab_type": "code",
        "colab": {
          "base_uri": "https://localhost:8080/",
          "height": 0
        },
        "outputId": "42e13cbf-5564-4419-f0a3-c8f36af1e690"
      },
      "source": [
        "# n : number of trials; count : times won; avnc : average number of cards\n",
        "n = 100000\n",
        "count = 0\n",
        "avnc = 0\n",
        "\n",
        "# Monte Carlo method for spanish deck\n",
        "for i in range(n):\n",
        "  \n",
        "  spanish_deck = [1,2,3,4,5,6,7,8,9,10,10,10,1,2,3,4,5,6,7,8,9,10,10,10,1,2,3,4,5,6,7,8,9,10,10,10,1,2,3,4,5,6,7,8,9,10,10,10]\n",
        "  my_hand = []\n",
        "  nc = 0 # number of cards\n",
        "\n",
        "  while (sum(my_hand) < 21):\n",
        "    card = r.choice(spanish_deck)\n",
        "    my_hand.append(card)\n",
        "    spanish_deck.remove(card)\n",
        "    nc += 1\n",
        "  \n",
        "  if (sum(my_hand)==21):\n",
        "    count += 1\n",
        "    avnc += nc\n",
        "\n",
        "# print results\n",
        "print(\"21 Blackjack - Spanish deck\")\n",
        "print(\"\\nProbability of complete 21: \", count/n)\n",
        "print(\"Average number of cards: \", avnc/count, \"\\n\")"
      ],
      "execution_count": 8,
      "outputs": [
        {
          "output_type": "stream",
          "text": [
            "21 Blackjack - Spanish deck\n",
            "\n",
            "Probability of complete 21:  0.14853\n",
            "Average number of cards:  3.709486299064162 \n",
            "\n"
          ],
          "name": "stdout"
        }
      ]
    },
    {
      "cell_type": "code",
      "metadata": {
        "id": "gWRcCOg25qcO",
        "colab_type": "code",
        "colab": {
          "base_uri": "https://localhost:8080/",
          "height": 0
        },
        "outputId": "77b061f8-af50-4373-b4fc-718c3a22b4d1"
      },
      "source": [
        "n = 100000\n",
        "count = 0\n",
        "avnc = 0\n",
        "nc_to_win = []\n",
        "\n",
        "for i in range(n):\n",
        "  spanish_deck = [1,2,3,4,5,6,7,8,9,10,10,10,1,2,3,4,5,6,7,8,9,10,10,10,1,2,3,4,5,6,7,8,9,10,10,10,1,2,3,4,5,6,7,8,9,10,10,10]\n",
        "  my_hand = []\n",
        "  nc = 0\n",
        "  while (sum(my_hand) < 21):\n",
        "    card = r.choice(spanish_deck)\n",
        "    my_hand.append(card)\n",
        "    spanish_deck.remove(card)\n",
        "    nc += 1\n",
        "  if (sum(my_hand)==21):\n",
        "    count += 1\n",
        "    avnc += nc\n",
        "    nc_to_win.append(nc)\n",
        "\n",
        "plt.figure()\n",
        "plt.hist(nc_to_win, density=True, bins=13)\n",
        "plt.title(\"Distribution of the numbers of card requires to complete 21\")\n",
        "plt.xlabel(\"Number of cards\")\n",
        "plt.ylabel(\"Relative Frequency\")\n",
        "plt.show\n",
        "\n",
        "print(\"21 Blackjack - Spanish deck\")\n",
        "print(\"\\nProbability of complete 21: \",count/n)\n",
        "print(\"Average number of cards: \",avnc/count,\"\\n\")"
      ],
      "execution_count": 9,
      "outputs": [
        {
          "output_type": "stream",
          "text": [
            "21 Blackjack - Spanish deck\n",
            "\n",
            "Probability of complete 21:  0.1481\n",
            "Average number of cards:  3.690546927751519 \n",
            "\n"
          ],
          "name": "stdout"
        },
        {
          "output_type": "display_data",
          "data": {
            "image/png": "[encoded data removed]",
            "text/plain": [
              "<Figure size 432x288 with 1 Axes>"
            ]
          },
          "metadata": {
            "tags": [],
            "needs_background": "light"
          }
        }
      ]
    },
    {
      "cell_type": "markdown",
      "metadata": {
        "id": "QfbnhYGT54EM",
        "colab_type": "text"
      },
      "source": [
        "# 3. Probability assuming have 19\n",
        "Calculate the probability of getting a 21, with the Spanish and Poker card deck, assuming that you are in the middle of game and the remaining deck has n/2 card and you have cards [7,7,5]. You pick arbitrary what card are in the remaining deck with the only restriction that there are be maximum two 7s and three 5s). Plot the experimental distribution of the numbers of card requires to complete 21 in 10000 simulations."
      ]
    },
    {
      "cell_type": "markdown",
      "metadata": {
        "id": "vLRndmAg8p8_",
        "colab_type": "text"
      },
      "source": [
        "### Poker deck"
      ]
    },
    {
      "cell_type": "code",
      "metadata": {
        "id": "V_reE-FI6HRJ",
        "colab_type": "code",
        "colab": {
          "base_uri": "https://localhost:8080/",
          "height": 0
        },
        "outputId": "4f826edd-fd89-4d82-b07e-88fb042f9006"
      },
      "source": [
        "# n : number of trials; count : times won; avnc : average number of cards\n",
        "n = 100000\n",
        "count = 0\n",
        "avnc = 0\n",
        "\n",
        "# Made n/2 poker deck\n",
        "poker_deck0 = [1,2,3,4,5,6,7,8,9,10,11,12,13,1,2,3,4,5,6,7,8,9,10,11,12,13,1,2,3,4,5,6,7,8,9,10,11,12,13,1,2,3,4,5,6,7,8,9,10,11,12,13]\n",
        "# Pop n/2 random cards of deck\n",
        "for i in range(len(poker_deck0)//2-1):\n",
        "  c = r.randint(i, len(poker_deck0)-1) \n",
        "  poker_deck0.pop(c)\n",
        "print(poker_deck0)\n",
        "\n",
        "# Monte Carlo method for poker deck\n",
        "for i in range(n):\n",
        "  \n",
        "  poker_deck = poker_deck0[:]\n",
        "  \n",
        "  my_hand = [7,7,5]\n",
        "  nc = 0 # number of cards\n",
        "\n",
        "  while (sum(my_hand) < 21):\n",
        "    card = r.choice(poker_deck)\n",
        "    my_hand.append(card)\n",
        "    poker_deck.remove(card)\n",
        "    nc += 1\n",
        "  \n",
        "  if (sum(my_hand)==21):\n",
        "    count += 1\n",
        "    avnc += nc\n",
        "\n",
        "# print results\n",
        "print(\"21 Blackjack - Poker deck\")\n",
        "print(\"\\nProbability of complete 21: \", count/n)\n",
        "print(\"Average number of cards: \", avnc/count, \"\\n\")"
      ],
      "execution_count": 10,
      "outputs": [
        {
          "output_type": "stream",
          "text": [
            "[1, 2, 3, 4, 5, 6, 7, 9, 10, 11, 12, 2, 3, 4, 7, 8, 9, 10, 13, 1, 2, 5, 7, 2, 6, 9, 12]\n",
            "21 Blackjack - Poker deck\n",
            "\n",
            "Probability of complete 21:  0.15157\n",
            "Average number of cards:  1.019528930527149 \n",
            "\n"
          ],
          "name": "stdout"
        }
      ]
    },
    {
      "cell_type": "code",
      "metadata": {
        "id": "ZYb70rQ3-jyB",
        "colab_type": "code",
        "colab": {
          "base_uri": "https://localhost:8080/",
          "height": 0
        },
        "outputId": "4283f771-d570-4a14-e30c-bec6e2edd9b4"
      },
      "source": [
        "# n : number of trials; count : times won; avnc : average number of cards\n",
        "n = 100000\n",
        "count = 0\n",
        "avnc = 0\n",
        "nc_to_win = []\n",
        "\n",
        "# Monte Carlo method for poker deck\n",
        "for i in range(n):\n",
        "  \n",
        "  poker_deck = [1,2,3,4,5,6,7,8,9,10,11,12,13,1,2,3,4,5,6,7,8,9,10,11,12,13,1,2,3,4,5,6,7,8,9,10,11,12,13,1,2,3,4,5,6,7,8,9,10,11,12,13]\n",
        "  \n",
        "  # Pop n/2 random cards of deck\n",
        "  for i in range(len(poker_deck)//2-1):\n",
        "    c = r.randint(i, len(poker_deck)-1) \n",
        "    poker_deck.pop(c)\n",
        "  \n",
        "  my_hand = [7,7,5]\n",
        "  nc = 0 # number of cards\n",
        "\n",
        "  while (sum(my_hand) < 21):\n",
        "    card = r.choice(poker_deck)\n",
        "    my_hand.append(card)\n",
        "    poker_deck.remove(card)\n",
        "    nc += 1\n",
        "  \n",
        "  if (sum(my_hand)==21):\n",
        "    count += 1\n",
        "    avnc += nc\n",
        "    nc_to_win.append(nc)\n",
        "\n",
        "plt.figure()\n",
        "plt.hist(nc_to_win, density=True, bins=11)\n",
        "plt.show\n",
        "\n",
        "\n",
        "# print results\n",
        "print(\"21 Blackjack - Poker deck\")\n",
        "print(\"\\nProbability of complete 21: \", count/n)\n",
        "print(\"Average number of cards: \", avnc/count, \"\\n\")"
      ],
      "execution_count": 11,
      "outputs": [
        {
          "output_type": "stream",
          "text": [
            "21 Blackjack - Poker deck\n",
            "\n",
            "Probability of complete 21:  0.09398\n",
            "Average number of cards:  1.0650138327303682 \n",
            "\n"
          ],
          "name": "stdout"
        },
        {
          "output_type": "display_data",
          "data": {
            "image/png": "[encoded data removed]",
            "text/plain": [
              "<Figure size 432x288 with 1 Axes>"
            ]
          },
          "metadata": {
            "tags": [],
            "needs_background": "light"
          }
        }
      ]
    },
    {
      "cell_type": "markdown",
      "metadata": {
        "id": "zrT2zYx1E1u9",
        "colab_type": "text"
      },
      "source": [
        "##Spanish Cards\n"
      ]
    },
    {
      "cell_type": "code",
      "metadata": {
        "id": "tN5hiSG0E5qo",
        "colab_type": "code",
        "colab": {
          "base_uri": "https://localhost:8080/",
          "height": 0
        },
        "outputId": "0b52d9a0-f982-49aa-cb01-f69f9cea2200"
      },
      "source": [
        "# n : number of trials; count : times won; avnc : average number of cards\n",
        "n = 100000\n",
        "count = 0\n",
        "avnc = 0\n",
        "nc_to_win = []\n",
        "\n",
        "# Monte Carlo method for spanish deck\n",
        "for i in range(n):\n",
        "  \n",
        "  spanish_deck = [1,2,3,4,5,6,7,8,9,10,11,12,1,2,3,4,5,6,7,8,9,10,11,12,1,2,3,4,5,6,7,8,9,10,11,12,1,2,3,4,5,6,7,8,9,10,11,12]\n",
        "  \n",
        "  # Pop n/2 random cards of deck\n",
        "  for i in range(len(spanish_deck)//2-1):\n",
        "    c = r.randint(i, len(spanish_deck)-1) \n",
        "    spanish_deck.pop(c)\n",
        "\n",
        "  \n",
        "  my_hand = [7,7,5]\n",
        "  nc = 0 # number of cards\n",
        "\n",
        "  while (sum(my_hand) < 21):\n",
        "    card = r.choice(spanish_deck)\n",
        "    my_hand.append(card)\n",
        "    spanish_deck.remove(card)\n",
        "    nc += 1\n",
        "  \n",
        "  if (sum(my_hand)==21):\n",
        "    count += 1\n",
        "    avnc += nc\n",
        "    nc_to_win.append(nc)\n",
        "\n",
        "plt.figure()\n",
        "plt.hist(nc_to_win, density=True, bins=11)\n",
        "plt.show\n",
        "\n",
        "\n",
        "# print results\n",
        "print(\"21 Blackjack - Spanish deck\")\n",
        "print(\"\\nProbability of complete 21: \", count/n)\n",
        "print(\"Average number of cards: \", avnc/count, \"\\n\")"
      ],
      "execution_count": 12,
      "outputs": [
        {
          "output_type": "stream",
          "text": [
            "21 Blackjack - Spanish deck\n",
            "\n",
            "Probability of complete 21:  0.10215\n",
            "Average number of cards:  1.0697014194811552 \n",
            "\n"
          ],
          "name": "stdout"
        },
        {
          "output_type": "display_data",
          "data": {
            "image/png": "[encoded data removed]",
            "text/plain": [
              "<Figure size 432x288 with 1 Axes>"
            ]
          },
          "metadata": {
            "tags": [],
            "needs_background": "light"
          }
        }
      ]
    },
    {
      "cell_type": "markdown",
      "metadata": {
        "id": "Zvr8AojZ6BtH",
        "colab_type": "text"
      },
      "source": [
        "# 4. Highest and Lowest probability"
      ]
    },
    {
      "cell_type": "markdown",
      "metadata": {
        "id": "YEeaAg0cAWJx",
        "colab_type": "text"
      },
      "source": [
        "Find remaining decks for Spanish and Poker card decks, with the number of cards according to the list below, with highest (hot deck) and lowest (cold deck) probabilities of getting 21, calculate the probabilities analytically and verify them with Montecarlo. Plot the experimental distribution of the numbers of card requires to complete 21 in 10000 simulations.\n"
      ]
    },
    {
      "cell_type": "markdown",
      "metadata": {
        "id": "SzpmPyS_Cz-I",
        "colab_type": "text"
      },
      "source": [
        "##Poker Cards\n"
      ]
    },
    {
      "cell_type": "markdown",
      "metadata": {
        "id": "mLef8RIWYRFR",
        "colab_type": "text"
      },
      "source": [
        "### Hot Deck"
      ]
    },
    {
      "cell_type": "code",
      "metadata": {
        "id": "2ygMV40-6G0d",
        "colab_type": "code",
        "colab": {
          "base_uri": "https://localhost:8080/",
          "height": 0
        },
        "outputId": "db322474-346d-42d1-d15a-ed815ce42670"
      },
      "source": [
        "# n : number of trials; count : times won; avnc : average number of cards\n",
        "n = 100000\n",
        "count = 0\n",
        "avnc = 0\n",
        "nc_to_win = []\n",
        "poker_deck = [3,4,5,6,7,8,9,10,11,12,13,3,4,5,6,7,8,9,10,11,12,13,3,4,5,6,7,8,9,10,11,12,13,3,4,5,6,7,8,9,10,11,12,13]\n",
        "hot_deck =[1,1,1,1,2,2,2,2]\n",
        "  \n",
        "# Made hot deck\n",
        "while (len(hot_deck) < 10):\n",
        "  c = r.choice(poker_deck)\n",
        "  hot_deck.append(c)\n",
        "  poker_deck.remove(c)\n",
        "\n",
        "# Monte Carlo method for hot deck\n",
        "for i in range(n):\n",
        "  \n",
        "  h_deck = hot_deck[:]\n",
        "  my_hand = [7,7,5]\n",
        "  nc = 0 # number of cards\n",
        "\n",
        "  while (sum(my_hand) < 21):\n",
        "    card = r.choice(h_deck)\n",
        "    my_hand.append(card)\n",
        "    h_deck.remove(card)\n",
        "    nc += 1\n",
        "  \n",
        "  if (sum(my_hand)==21):\n",
        "    count += 1\n",
        "    avnc += nc\n",
        "    nc_to_win.append(nc)\n",
        "\n",
        "plt.figure()\n",
        "plt.hist(nc_to_win, density=True, bins=11)\n",
        "plt.show\n",
        "\n",
        "\n",
        "# print results\n",
        "print(\"21 Blackjack - Poker deck: Hot deck\")\n",
        "print(\"\\nProbability of complete 21: \", count/n)\n",
        "print(\"Average number of cards: \", avnc/count, \"\\n\")"
      ],
      "execution_count": 13,
      "outputs": [
        {
          "output_type": "stream",
          "text": [
            "21 Blackjack - Poker deck: Hot deck\n",
            "\n",
            "Probability of complete 21:  0.5315\n",
            "Average number of cards:  1.2519096895578552 \n",
            "\n"
          ],
          "name": "stdout"
        },
        {
          "output_type": "display_data",
          "data": {
            "image/png": "[encoded data removed]",
            "text/plain": [
              "<Figure size 432x288 with 1 Axes>"
            ]
          },
          "metadata": {
            "tags": [],
            "needs_background": "light"
          }
        }
      ]
    },
    {
      "cell_type": "markdown",
      "metadata": {
        "id": "eJU2jdjHYVo-",
        "colab_type": "text"
      },
      "source": [
        "###Cold Deck"
      ]
    },
    {
      "cell_type": "code",
      "metadata": {
        "id": "0e4ldyetI8of",
        "colab_type": "code",
        "colab": {
          "base_uri": "https://localhost:8080/",
          "height": 0
        },
        "outputId": "d33114b8-f50f-4dc7-bc7f-8a82afe57f49"
      },
      "source": [
        "# n : number of trials; count : times won; avnc : average number of cards\n",
        "n = 100000\n",
        "count = 0\n",
        "avnc = 0\n",
        "nc_to_win = []\n",
        "\n",
        "poker_deck = [3,4,5,6,7,8,9,10,11,12,13,3,4,5,6,7,8,9,10,11,12,13,3,4,5,6,7,8,9,10,11,12,13,3,4,5,6,7,8,9,10,11,12,13]\n",
        "cold_deck =[]\n",
        "\n",
        "#Made cold deck\n",
        "while (len(cold_deck) < 10):\n",
        "  c = r.choice(poker_deck)\n",
        "  cold_deck.append(c)\n",
        "  poker_deck.remove(c)\n",
        "  \n",
        "\n",
        "# Monte Carlo method for cold deck\n",
        "for i in range(n):\n",
        "  \n",
        "  c_deck = cold_deck[:]\n",
        "  my_hand = [7,7,5]\n",
        "  nc = 0 # number of cards\n",
        "\n",
        "  while (sum(my_hand) < 21):\n",
        "    card = r.choice(c_deck)\n",
        "    my_hand.append(card)\n",
        "    c_deck.remove(card)\n",
        "    nc += 1\n",
        "  \n",
        "  if (sum(my_hand)==21):\n",
        "    count += 1\n",
        "    avnc += nc\n",
        "    nc_to_win.append(nc)\n",
        "\n",
        "plt.figure()\n",
        "plt.hist(nc_to_win, density=True, bins=11)\n",
        "plt.show\n",
        "\n",
        "\n",
        "# print results\n",
        "print(\"21 Blackjack - Poker deck: Cold deck\")\n",
        "print(\"\\nProbability of complete 21: \", count/n)\n",
        "#print(\"Average number of cards: \", avnc/count, \"\\n\")"
      ],
      "execution_count": 14,
      "outputs": [
        {
          "output_type": "stream",
          "text": [
            "21 Blackjack - Poker deck: Cold deck\n",
            "\n",
            "Probability of complete 21:  0.0\n"
          ],
          "name": "stdout"
        },
        {
          "output_type": "stream",
          "text": [
            "/usr/local/lib/python3.6/dist-packages/numpy/lib/histograms.py:908: RuntimeWarning: invalid value encountered in true_divide\n",
            "  return n/db/n.sum(), bin_edges\n"
          ],
          "name": "stderr"
        },
        {
          "output_type": "display_data",
          "data": {
            "image/png": "[encoded data removed]",
            "text/plain": [
              "<Figure size 432x288 with 1 Axes>"
            ]
          },
          "metadata": {
            "tags": [],
            "needs_background": "light"
          }
        }
      ]
    },
    {
      "cell_type": "markdown",
      "metadata": {
        "id": "eprP866_C4gI",
        "colab_type": "text"
      },
      "source": [
        "##Spanish Cards\n"
      ]
    },
    {
      "cell_type": "markdown",
      "metadata": {
        "id": "EHz4RqmAihSF",
        "colab_type": "text"
      },
      "source": [
        ""
      ]
    },
    {
      "cell_type": "markdown",
      "metadata": {
        "id": "KQPLPXTqZL2_",
        "colab_type": "text"
      },
      "source": [
        "### Hot Deck"
      ]
    },
    {
      "cell_type": "code",
      "metadata": {
        "id": "w_5JSeIlC745",
        "colab_type": "code",
        "colab": {
          "base_uri": "https://localhost:8080/",
          "height": 0
        },
        "outputId": "95c434c7-968f-4898-abbe-d958ebd2a427"
      },
      "source": [
        "# n : number of trials; count : times won; avnc : average number of cards\n",
        "n = 100000\n",
        "count = 0\n",
        "avnc = 0\n",
        "nc_to_win = []\n",
        "spanish_deck = [3,4,5,6,7,8,9,10,11,12,3,4,5,6,7,8,9,10,11,12,3,4,5,6,7,8,9,10,11,12,3,4,5,6,7,8,9,10,11,12]\n",
        "hot_deck = [1,1,1,1,2,2,2,2]\n",
        "  \n",
        "# Made hot deck\n",
        "while (len(hot_deck) < 10):\n",
        "  c = r.choice(spanish_deck)\n",
        "  hot_deck.append(c)\n",
        "  spanish_deck.remove(c)\n",
        "\n",
        "# Monte Carlo method for hot deck\n",
        "for i in range(n):\n",
        "  \n",
        "  h_deck = hot_deck[:]\n",
        "  my_hand = [7,7,5]\n",
        "  nc = 0 # number of cards\n",
        "\n",
        "  while (sum(my_hand) < 21):\n",
        "    card = r.choice(h_deck)\n",
        "    my_hand.append(card)\n",
        "    h_deck.remove(card)\n",
        "    nc += 1\n",
        "  \n",
        "  if (sum(my_hand)==21):\n",
        "    count += 1\n",
        "    avnc += nc\n",
        "    nc_to_win.append(nc)\n",
        "\n",
        "plt.figure()\n",
        "plt.hist(nc_to_win, density=True, bins=11)\n",
        "plt.show\n",
        "\n",
        "\n",
        "# print results\n",
        "print(\"21 Blackjack - Spanish deck: Hot deck\")\n",
        "print(\"\\nProbability of complete 21: \", count/n)\n",
        "print(\"Average number of cards: \", avnc/count, \"\\n\")"
      ],
      "execution_count": 15,
      "outputs": [
        {
          "output_type": "stream",
          "text": [
            "21 Blackjack - Spanish deck: Hot deck\n",
            "\n",
            "Probability of complete 21:  0.53214\n",
            "Average number of cards:  1.2487315368136205 \n",
            "\n"
          ],
          "name": "stdout"
        },
        {
          "output_type": "display_data",
          "data": {
            "image/png": "[encoded data removed]",
            "text/plain": [
              "<Figure size 432x288 with 1 Axes>"
            ]
          },
          "metadata": {
            "tags": [],
            "needs_background": "light"
          }
        }
      ]
    },
    {
      "cell_type": "markdown",
      "metadata": {
        "id": "qGqM_EaWZQHv",
        "colab_type": "text"
      },
      "source": [
        "### Cold Deck"
      ]
    },
    {
      "cell_type": "code",
      "metadata": {
        "id": "df8FRW8zZTLA",
        "colab_type": "code",
        "colab": {
          "base_uri": "https://localhost:8080/",
          "height": 0
        },
        "outputId": "181ba684-bf6e-4989-b5b4-58ab5ba9cee5"
      },
      "source": [
        "# n : number of trials; count : times won; avnc : average number of cards\n",
        "n = 100000\n",
        "count = 0\n",
        "avnc = 0\n",
        "nc_to_win = []\n",
        "spanish_deck = [3,4,5,6,7,8,9,10,11,12,3,4,5,6,7,8,9,10,11,12,3,4,5,6,7,8,9,10,11,12,3,4,5,6,7,8,9,10,11,12]\n",
        "cold_deck =[]\n",
        "\n",
        "#Made cold deck\n",
        "while (len(cold_deck) < 10):\n",
        "  c = r.choice(spanish_deck)\n",
        "  cold_deck.append(c)\n",
        "  spanish_deck.remove(c)\n",
        "\n",
        "# Monte Carlo method for hot deck\n",
        "for i in range(n):\n",
        "  \n",
        "  c_deck = cold_deck[:]\n",
        "  my_hand = [7,7,5]\n",
        "  nc = 0 # number of cards\n",
        "\n",
        "  while (sum(my_hand) < 21):\n",
        "    card = r.choice(c_deck)\n",
        "    my_hand.append(card)\n",
        "    c_deck.remove(card)\n",
        "    nc += 1\n",
        "  \n",
        "  if (sum(my_hand)==21):\n",
        "    count += 1\n",
        "    avnc += nc\n",
        "    nc_to_win.append(nc)\n",
        "\n",
        "plt.figure()\n",
        "plt.hist(nc_to_win, density=True, bins=11)\n",
        "plt.show\n",
        "\n",
        "\n",
        "# print results\n",
        "print(\"21 Blackjack - Spanish deck: Cold deck\")\n",
        "print(\"\\nProbability of complete 21: \", count/n)\n",
        "#print(\"Average number of cards: \", avnc/count, \"\\n\")"
      ],
      "execution_count": 16,
      "outputs": [
        {
          "output_type": "stream",
          "text": [
            "21 Blackjack - Spanish deck: Cold deck\n",
            "\n",
            "Probability of complete 21:  0.0\n"
          ],
          "name": "stdout"
        },
        {
          "output_type": "stream",
          "text": [
            "/usr/local/lib/python3.6/dist-packages/numpy/lib/histograms.py:908: RuntimeWarning: invalid value encountered in true_divide\n",
            "  return n/db/n.sum(), bin_edges\n"
          ],
          "name": "stderr"
        },
        {
          "output_type": "display_data",
          "data": {
            "image/png": "[encoded data removed]",
            "text/plain": [
              "<Figure size 432x288 with 1 Axes>"
            ]
          },
          "metadata": {
            "tags": [],
            "needs_background": "light"
          }
        }
      ]
    },
    {
      "cell_type": "markdown",
      "metadata": {
        "id": "QTlsnXbe6Dcx",
        "colab_type": "text"
      },
      "source": [
        "#5. Ben goes to Vegas\n",
        "\n",
        "If Ben goes to Vegas every weekend (Friday, Saturday and Sunday), plays every weekend day 10 hours, each game takes 3 mins. He gets the cards [7,7,5] and a remaining hot deck with probability 1/10, the cards in hot deck are the ones obtained in the previous quiz point 4. Asume that for cold decks the Ben has no cards and the remaining deck is the complete deck. He bets \\$1000 on hot decks and \\$10 on cold decks. What is the estimated amount of money that Ben wins or losses on a weekend estimated with 10 million simulations using both the Spanish and Poker card decks? Plot the experimental distribution of the numbers of card requires to complete 21 in 10000 simulations."
      ]
    },
    {
      "cell_type": "markdown",
      "metadata": {
        "id": "ijnN0wCRneQd",
        "colab_type": "text"
      },
      "source": [
        "## Spanish deck\n"
      ]
    },
    {
      "cell_type": "code",
      "metadata": {
        "id": "zICaGdMH59GK",
        "colab_type": "code",
        "colab": {
          "base_uri": "https://localhost:8080/",
          "height": 0
        },
        "outputId": "4fd39c98-adc9-4585-d24d-3550c30fbe38"
      },
      "source": [
        "# Define variables\n",
        "n = 1000\n",
        "games_wekend = 600\n",
        "count = 0\n",
        "avnc = 0\n",
        "nc_to_win = []\n",
        "bets_list = []\n",
        "\n",
        "\n",
        "for i in range(n):\n",
        "  bets = 0\n",
        "  for i in range(games_wekend):\n",
        "    nc = 0\n",
        "    c_deck = [1,2,3,4,5,6,7,8,9,10,11,12,1,2,3,4,5,6,7,8,9,10,11,12,1,2,3,4,5,6,7,8,9,10,11,12,1,2,3,4,5,6,7,8,9,10,11,12]\n",
        "    my_hand = []\n",
        "    p = r.randint(1,10)\n",
        "\n",
        "    # Made hot deck\n",
        "    spanish_deck = [3,4,6,8,9,10,11,12,3,4,5,6,8,9,10,11,12,3,4,5,6,7,8,9,10,11,12,3,4,5,6,7,8,9,10,11,12]\n",
        "    hot_deck = [1,1,1,1,2,2,2,2]\n",
        "    while (len(hot_deck) < 12):\n",
        "      c = r.choice(spanish_deck)\n",
        "      hot_deck.append(c)\n",
        "      spanish_deck.remove(c)\n",
        "    \n",
        "    h_deck = hot_deck[:]\n",
        "\n",
        "    if (p == 1): # hot deck\n",
        "      my_hand = [7,7,5]\n",
        "      while (sum(my_hand) < 21):\n",
        "        card = r.choice(h_deck)\n",
        "        my_hand.append(card)\n",
        "        h_deck.remove(card)\n",
        "        nc += 1\n",
        "      if (sum(my_hand)==21): #if win, earn 2 x $1000\n",
        "        count += 1\n",
        "        avnc += nc\n",
        "        nc_to_win.append(nc)  \n",
        "        bets += 2000\n",
        "        bets_list.append(bets)\n",
        "      else:\n",
        "        bets -= 1000\n",
        "        bets_list.append(bets)\n",
        "    else: # cold deck\n",
        "      while (sum(my_hand) < 21):\n",
        "        card = r.choice(c_deck)\n",
        "        my_hand.append(card)\n",
        "        c_deck.remove(card)\n",
        "        nc += 1\n",
        "      if (sum(my_hand)==21): #if win, earn 2 x $10\n",
        "        count += 1\n",
        "        avnc += nc\n",
        "        nc_to_win.append(nc) \n",
        "        bets += 20\n",
        "        bets_list.append(bets)\n",
        "      else:\n",
        "        bets -= 10\n",
        "        bets_list.append(bets)\n",
        "\n",
        "print(\"Bens goes to Vegas - Spanish deck\")\n",
        "print(\"\\nAverage profit: \",sum(bets_list)//(n*games_wekend), \"$\")\n",
        "print(\"Probability of complete 21: \", count/(n*games_wekend))\n",
        "print(\"Average number of cards: \", avnc/count, \"\\n\")\n",
        "\n",
        "plt.figure()\n",
        "plt.hist(nc_to_win, density=True, bins=13)\n",
        "plt.title(\"Distribution of the numbers of card requires to complete 21\")\n",
        "plt.xlabel(\"Number of cards\")\n",
        "plt.ylabel(\"Relative Frequency\")\n",
        "plt.show"
      ],
      "execution_count": 17,
      "outputs": [
        {
          "output_type": "stream",
          "text": [
            "Bens goes to Vegas - Spanish deck\n",
            "\n",
            "Average profit:  7209 $\n",
            "Probability of complete 21:  0.18460833333333335\n",
            "Average number of cards:  2.905881821875141 \n",
            "\n"
          ],
          "name": "stdout"
        },
        {
          "output_type": "execute_result",
          "data": {
            "text/plain": [
              "<function matplotlib.pyplot.show>"
            ]
          },
          "metadata": {
            "tags": []
          },
          "execution_count": 17
        },
        {
          "output_type": "display_data",
          "data": {
            "image/png": "[encoded data removed]",
            "text/plain": [
              "<Figure size 432x288 with 1 Axes>"
            ]
          },
          "metadata": {
            "tags": [],
            "needs_background": "light"
          }
        }
      ]
    },
    {
      "cell_type": "code",
      "metadata": {
        "id": "Cr1em52N6iw1",
        "colab_type": "code",
        "colab": {
          "base_uri": "https://localhost:8080/",
          "height": 0
        },
        "outputId": "92eea716-5cc2-4b6c-85e9-337b82ce4833"
      },
      "source": [
        "# Define variables\n",
        "n = 1000\n",
        "games_wekend = 600\n",
        "count = 0\n",
        "avnc = 0\n",
        "nc_to_win = []\n",
        "bets_list = []\n",
        "\n",
        "\n",
        "for i in range(n):\n",
        "  bets = 0\n",
        "  for i in range(games_wekend):\n",
        "    nc = 0\n",
        "    c_deck = [1,2,3,4,5,6,7,8,9,10,11,12,13,1,2,3,4,5,6,7,8,9,10,11,12,13,1,2,3,4,5,6,7,8,9,10,11,12,1,2,3,4,5,6,7,8,9,10,11,12,13]\n",
        "    my_hand = []\n",
        "    p = r.randint(1,10)\n",
        "\n",
        "    # Made hot deck\n",
        "    poker_deck = [3,4,6,8,9,10,11,12,13,3,4,5,6,8,9,10,11,12,13,3,4,5,6,7,8,9,10,11,12,13,3,4,5,6,7,8,9,10,11,12,13]\n",
        "    hot_deck = [1,1,1,1,2,2,2,2]\n",
        "    while (len(hot_deck) < 12):\n",
        "      c = r.choice(poker_deck)\n",
        "      hot_deck.append(c)\n",
        "      poker_deck.remove(c)\n",
        "    \n",
        "    h_deck = hot_deck[:]\n",
        "\n",
        "    if (p == 1): # hot deck\n",
        "      my_hand = [7,7,5]\n",
        "      while (sum(my_hand) < 21):\n",
        "        card = r.choice(h_deck)\n",
        "        my_hand.append(card)\n",
        "        h_deck.remove(card)\n",
        "        nc += 1\n",
        "      if (sum(my_hand)==21): #if win, earn 2 x $1000\n",
        "        count += 1\n",
        "        avnc += nc\n",
        "        nc_to_win.append(nc)  \n",
        "        bets += 2000\n",
        "        bets_list.append(bets)\n",
        "      else:\n",
        "        bets -= 1000\n",
        "        bets_list.append(bets)\n",
        "    else: # cold deck\n",
        "      while (sum(my_hand) < 21):\n",
        "        card = r.choice(c_deck)\n",
        "        my_hand.append(card)\n",
        "        c_deck.remove(card)\n",
        "        nc += 1\n",
        "      if (sum(my_hand)==21): #if win, earn 2 x $10\n",
        "        count += 1\n",
        "        avnc += nc\n",
        "        nc_to_win.append(nc) \n",
        "        bets += 20\n",
        "        bets_list.append(bets)\n",
        "      else:\n",
        "        bets -= 10\n",
        "        bets_list.append(bets)\n",
        "\n",
        "print(\"Bens goes to Vegas - Poker deck\")\n",
        "print(\"\\nAverage profit: \",sum(bets_list)//(n*games_wekend), \"$\")\n",
        "print(\"Probability of complete 21: \", count/(n*games_wekend))\n",
        "print(\"Average number of cards: \", avnc/count, \"\\n\")\n",
        "\n",
        "plt.figure()\n",
        "plt.hist(nc_to_win, density=True, bins=13)\n",
        "plt.title(\"Distribution of the numbers of card requires to complete 21\")\n",
        "plt.xlabel(\"Number of cards\")\n",
        "plt.ylabel(\"Relative Frequency\")\n",
        "plt.show"
      ],
      "execution_count": 18,
      "outputs": [
        {
          "output_type": "stream",
          "text": [
            "Bens goes to Vegas - Poker deck\n",
            "\n",
            "Average profit:  6410 $\n",
            "Probability of complete 21:  0.17539\n",
            "Average number of cards:  2.7666343577170878 \n",
            "\n"
          ],
          "name": "stdout"
        },
        {
          "output_type": "execute_result",
          "data": {
            "text/plain": [
              "<function matplotlib.pyplot.show>"
            ]
          },
          "metadata": {
            "tags": []
          },
          "execution_count": 18
        },
        {
          "output_type": "display_data",
          "data": {
            "image/png": "[encoded data removed]",
            "text/plain": [
              "<Figure size 432x288 with 1 Axes>"
            ]
          },
          "metadata": {
            "tags": [],
            "needs_background": "light"
          }
        }
      ]
    }
  ]
}