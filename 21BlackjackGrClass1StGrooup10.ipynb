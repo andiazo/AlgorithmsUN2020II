{
  "nbformat": 4,
  "nbformat_minor": 0,
  "metadata": {
    "colab": {
      "name": "21BlackjackGrClass1StGrooup10.ipynb",
      "provenance": [],
      "collapsed_sections": []
    },
    "kernelspec": {
      "name": "python3",
      "display_name": "Python 3"
    }
  },
  "cells": [
    {
      "cell_type": "markdown",
      "metadata": {
        "id": "FsRtxyOJkgqA",
        "colab_type": "text"
      },
      "source": [
        "# Lab 4: Monte Carlo – 21 Blackjack\n",
        "Members\n",
        "\n",
        "*   Andres David Diaz Obando\n",
        "*   Danier Elian Gonzalez Ordoñez\n",
        "*   Gustavo Adolfo Mojica Perdigon\n",
        "\n",
        "\n",
        "\n"
      ]
    },
    {
      "cell_type": "markdown",
      "metadata": {
        "id": "6x4n1mxpkP8W",
        "colab_type": "text"
      },
      "source": [
        "# 1. Probability of getting a 21\n",
        "Calculate the probability of getting a 21 drawing cards sequentially from shuffled Spanish 48-deck with card values [1,2,3,4,5,6,7,10,11,12,1,2,3,4,5,6,7,8,9,10,11,12,1,2,3,4,5,6,7,8,9,10,11,12,1,2,3,4,5,6,7,8,9,10,11,12] and from a shuffled Poker 52-card with card values [1,2,3,4,5,6,7,8,9,10,11,12,13,1,2,3,4,5,6,7,8,9,10,11,12,13,1,2,3,4,5,6,7,8,9,10,11,12,13,1,2,3,4,5,6,7,8,9,10,11,12,13]. Plot the experimental distribution of the numbers of card requires to complete 21 in 10000 trials."
      ]
    },
    {
      "cell_type": "code",
      "metadata": {
        "id": "YFIscGkMke6R",
        "colab_type": "code",
        "colab": {}
      },
      "source": [
        "import matplotlib.pyplot as plt\n",
        "import numpy as np\n",
        "import random as r"
      ],
      "execution_count": null,
      "outputs": []
    },
    {
      "cell_type": "markdown",
      "metadata": {
        "id": "5nB7YEQvv2Kb",
        "colab_type": "text"
      },
      "source": [
        "### Poker deck"
      ]
    },
    {
      "cell_type": "code",
      "metadata": {
        "id": "CRHPGPV-ky0P",
        "colab_type": "code",
        "colab": {
          "base_uri": "https://localhost:8080/",
          "height": 102
        },
        "outputId": "15d59fed-c240-4bb8-d757-caafaa5cd523"
      },
      "source": [
        "# n : number of trials; count : times won; avnc : average number of cards\n",
        "n = 10000\n",
        "count = 0\n",
        "avnc = 0\n",
        "\n",
        "# Monte Carlo method for poker deck\n",
        "for i in range(n):\n",
        "  \n",
        "  poker_deck = [1,2,3,4,5,6,7,8,9,10,11,12,13,1,2,3,4,5,6,7,8,9,10,11,12,13,1,2,3,4,5,6,7,8,9,10,11,12,13,1,2,3,4,5,6,7,8,9,10,11,12,13]\n",
        "  my_hand = []\n",
        "  nc = 0 # number of cards\n",
        "\n",
        "  while (sum(my_hand) < 21):\n",
        "    card = r.choice(poker_deck)\n",
        "    my_hand.append(card)\n",
        "    poker_deck.remove(card)\n",
        "    nc += 1\n",
        "  \n",
        "  if (sum(my_hand)==21):\n",
        "    count += 1\n",
        "    avnc += nc\n",
        "\n",
        "# print results\n",
        "print(\"21 Blackjack - Poker deck\")\n",
        "print(\"\\nProbability of complete 21: \", count/n)\n",
        "print(\"Average number of cards: \", avnc/count, \"\\n\")"
      ],
      "execution_count": null,
      "outputs": [
        {
          "output_type": "stream",
          "text": [
            "21 Blackjack - Poker deck\n",
            "\n",
            "Probability of complete 21:  0.1449\n",
            "Average number of cards:  3.1608005521049 \n",
            "\n"
          ],
          "name": "stdout"
        }
      ]
    },
    {
      "cell_type": "code",
      "metadata": {
        "id": "FygaenbSqFcy",
        "colab_type": "code",
        "colab": {
          "base_uri": "https://localhost:8080/",
          "height": 380
        },
        "outputId": "85a5c1bb-93f5-4487-8fe5-1c1f281ce8cb"
      },
      "source": [
        "n = 10000\n",
        "count = 0\n",
        "avnc = 0\n",
        "nc_to_win = []\n",
        "\n",
        "for i in range(n):\n",
        "  poker_deck = [1,2,3,4,5,6,7,8,9,10,11,12,13,1,2,3,4,5,6,7,8,9,10,11,12,13,1,2,3,4,5,6,7,8,9,10,11,12,13,1,2,3,4,5,6,7,8,9,10,11,12,13]\n",
        "  my_hand = []\n",
        "  nc = 0\n",
        "  while (sum(my_hand) < 21):\n",
        "    card = r.choice(poker_deck)\n",
        "    my_hand.append(card)\n",
        "    poker_deck.remove(card)\n",
        "    nc += 1\n",
        "  if (sum(my_hand)==21):\n",
        "    count += 1\n",
        "    avnc += nc\n",
        "    nc_to_win.append(nc)\n",
        "\n",
        "plt.figure()\n",
        "plt.hist(nc_to_win, density=True, bins=13)\n",
        "plt.title(\"Distribution of the numbers of card requires to complete 21\")\n",
        "plt.xlabel(\"Number of cards\")\n",
        "plt.ylabel(\"Relative Frequency\")\n",
        "plt.show\n",
        "\n",
        "print(\"21 Blackjack - Poker deck\")\n",
        "print(\"\\nProbability of complete 21: \",count/n)\n",
        "print(\"Average number of cards: \",avnc/count,\"\\n\")"
      ],
      "execution_count": null,
      "outputs": [
        {
          "output_type": "stream",
          "text": [
            "21 Blackjack - Poker deck\n",
            "\n",
            "Probability of complete 21:  0.1458\n",
            "Average number of cards:  3.286694101508916 \n",
            "\n"
          ],
          "name": "stdout"
        },
        {
          "output_type": "display_data",
          "data": {
            "image/png": "[encoded data removed]",
            "text/plain": [
              "<Figure size 432x288 with 1 Axes>"
            ]
          },
          "metadata": {
            "tags": [],
            "needs_background": "light"
          }
        }
      ]
    },
    {
      "cell_type": "markdown",
      "metadata": {
        "id": "G88aEABuv7Xh",
        "colab_type": "text"
      },
      "source": [
        "### Spanish deck"
      ]
    },
    {
      "cell_type": "code",
      "metadata": {
        "id": "zn2CGfrDv98F",
        "colab_type": "code",
        "colab": {
          "base_uri": "https://localhost:8080/",
          "height": 102
        },
        "outputId": "a7b5927d-f42e-4d22-ee8c-a3de0688c50a"
      },
      "source": [
        "# n : number of trials; count : times won; avnc : average number of cards\n",
        "n = 10000\n",
        "count = 0\n",
        "avnc = 0\n",
        "\n",
        "# Monte Carlo method for spanish deck\n",
        "for i in range(n):\n",
        "  \n",
        "  spanish_deck = [1,2,3,4,5,6,7,8,9,10,11,12,1,2,3,4,5,6,7,8,9,10,11,12,1,2,3,4,5,6,7,8,9,10,11,12,1,2,3,4,5,6,7,8,9,10,11,12]\n",
        "  my_hand = []\n",
        "  nc = 0 # number of cards\n",
        "\n",
        "  while (sum(my_hand) < 21):\n",
        "    card = r.choice(spanish_deck)\n",
        "    my_hand.append(card)\n",
        "    spanish_deck.remove(card)\n",
        "    nc += 1\n",
        "  \n",
        "  if (sum(my_hand)==21):\n",
        "    count += 1\n",
        "    avnc += nc\n",
        "\n",
        "# print results\n",
        "print(\"21 Blackjack - Spanish deck\")\n",
        "print(\"\\nProbability of complete 21: \", count/n)\n",
        "print(\"Average number of cards: \", avnc/count, \"\\n\")"
      ],
      "execution_count": null,
      "outputs": [
        {
          "output_type": "stream",
          "text": [
            "21 Blackjack - Spanish deck\n",
            "\n",
            "Probability of complete 21:  0.1602\n",
            "Average number of cards:  3.4138576779026217 \n",
            "\n"
          ],
          "name": "stdout"
        }
      ]
    },
    {
      "cell_type": "code",
      "metadata": {
        "id": "SB9n50s2wh5Y",
        "colab_type": "code",
        "colab": {
          "base_uri": "https://localhost:8080/",
          "height": 380
        },
        "outputId": "d99caeff-0576-4f87-aec4-400882fecee5"
      },
      "source": [
        "n = 10000\n",
        "count = 0\n",
        "avnc = 0\n",
        "nc_to_win = []\n",
        "\n",
        "for i in range(n):\n",
        "  spanish_deck = [1,2,3,4,5,6,7,8,9,10,11,12,1,2,3,4,5,6,7,8,9,10,11,12,1,2,3,4,5,6,7,8,9,10,11,12,1,2,3,4,5,6,7,8,9,10,11,12]\n",
        "  my_hand = []\n",
        "  nc = 0\n",
        "  while (sum(my_hand) < 21):\n",
        "    card = r.choice(spanish_deck)\n",
        "    my_hand.append(card)\n",
        "    spanish_deck.remove(card)\n",
        "    nc += 1\n",
        "  if (sum(my_hand)==21):\n",
        "    count += 1\n",
        "    avnc += nc\n",
        "    nc_to_win.append(nc)\n",
        "\n",
        "plt.figure()\n",
        "plt.hist(nc_to_win, density=True, bins=13)\n",
        "plt.title(\"Distribution of the numbers of card requires to complete 21\")\n",
        "plt.xlabel(\"Number of cards\")\n",
        "plt.ylabel(\"Relative Frequency\")\n",
        "plt.show\n",
        "\n",
        "print(\"21 Blackjack - Spanish deck\")\n",
        "print(\"\\nProbability of complete 21: \",count/n)\n",
        "print(\"Average number of cards: \",avnc/count,\"\\n\")"
      ],
      "execution_count": null,
      "outputs": [
        {
          "output_type": "stream",
          "text": [
            "21 Blackjack - Spanish deck\n",
            "\n",
            "Probability of complete 21:  0.1648\n",
            "Average number of cards:  3.441747572815534 \n",
            "\n"
          ],
          "name": "stdout"
        },
        {
          "output_type": "display_data",
          "data": {
            "image/png": "[encoded data removed]",
            "text/plain": [
              "<Figure size 432x288 with 1 Axes>"
            ]
          },
          "metadata": {
            "tags": [],
            "needs_background": "light"
          }
        }
      ]
    },
    {
      "cell_type": "markdown",
      "metadata": {
        "id": "CNN77G6m3qxy",
        "colab_type": "text"
      },
      "source": [
        "# 2. Probability of getting a 21 with a custom deck\n",
        "Calculate the probability of getting a 21 drawing cards sequentially from shuffled Spanish 48-deck with card values are [1,2,3,4,5,6,7,8,9,,10,10,10,1,2,3,4,5,6,7,8,9,,10,10,10,1,2,3,4,5,6,7,8,9,10,10,10,1,2,3,4,5,6,7,8,9,,10,10,10] and [1,2,3,4,5,6,7,8,9,10,10,10,10,1,2,3,4,5,6,7,8,9,10,10,10,10,1,2,3,4,5,6,7,8,9,10,10,10,10,1,2,3,4,5,6,7,8,9,10,10,10,10] for the Spanish and Poker card decks. Plot the experimental distribution of the numbers of card requires to complete 21 in 10000 simulations."
      ]
    },
    {
      "cell_type": "markdown",
      "metadata": {
        "id": "pGFvSgiv5WcN",
        "colab_type": "text"
      },
      "source": [
        "### Poker deck\n"
      ]
    },
    {
      "cell_type": "code",
      "metadata": {
        "id": "gwumc5QS4dKd",
        "colab_type": "code",
        "colab": {
          "base_uri": "https://localhost:8080/",
          "height": 102
        },
        "outputId": "49a30390-7126-43dd-9d4c-1c1e10bfc477"
      },
      "source": [
        "# n : number of trials; count : times won; avnc : average number of cards\n",
        "n = 10000\n",
        "count = 0\n",
        "avnc = 0\n",
        "\n",
        "# Monte Carlo method for poker deck\n",
        "for i in range(n):\n",
        "  \n",
        "  poker_deck = [1,2,3,4,5,6,7,8,9,10,10,10,10,1,2,3,4,5,6,7,8,9,10,10,10,10,1,2,3,4,5,6,7,8,9,10,10,10,10,1,2,3,4,5,6,7,8,9,10,10,10,10]\n",
        "  my_hand = []\n",
        "  nc = 0 # number of cards\n",
        "\n",
        "  while (sum(my_hand) < 21):\n",
        "    card = r.choice(poker_deck)\n",
        "    my_hand.append(card)\n",
        "    poker_deck.remove(card)\n",
        "    nc += 1\n",
        "  \n",
        "  if (sum(my_hand)==21):\n",
        "    count += 1\n",
        "    avnc += nc\n",
        "\n",
        "# print results\n",
        "print(\"21 Blackjack - Poker deck\")\n",
        "print(\"\\nProbability of complete 21: \", count/n)\n",
        "print(\"Average number of cards: \", avnc/count, \"\\n\")"
      ],
      "execution_count": null,
      "outputs": [
        {
          "output_type": "stream",
          "text": [
            "21 Blackjack - Poker deck\n",
            "\n",
            "Probability of complete 21:  0.1398\n",
            "Average number of cards:  3.6416309012875536 \n",
            "\n"
          ],
          "name": "stdout"
        }
      ]
    },
    {
      "cell_type": "code",
      "metadata": {
        "id": "x8pm7r1I5Kl7",
        "colab_type": "code",
        "colab": {
          "base_uri": "https://localhost:8080/",
          "height": 380
        },
        "outputId": "e72ae33d-2fad-4e63-eda6-a32e2f97c6e5"
      },
      "source": [
        "n = 10000\n",
        "count = 0\n",
        "avnc = 0\n",
        "nc_to_win = []\n",
        "\n",
        "for i in range(n):\n",
        "  \n",
        "  poker_deck = [1,2,3,4,5,6,7,8,9,10,10,10,10,1,2,3,4,5,6,7,8,9,10,10,10,10,1,2,3,4,5,6,7,8,9,10,10,10,10,1,2,3,4,5,6,7,8,9,10,10,10,10]\n",
        "  my_hand = []\n",
        "  nc = 0\n",
        "  while (sum(my_hand) < 21):\n",
        "    card = r.choice(poker_deck)\n",
        "    my_hand.append(card)\n",
        "    poker_deck.remove(card)\n",
        "    nc += 1\n",
        "  if (sum(my_hand)==21):\n",
        "    count += 1\n",
        "    avnc += nc\n",
        "    nc_to_win.append(nc)\n",
        "\n",
        "plt.figure()\n",
        "plt.hist(nc_to_win, density=True, bins=13)\n",
        "plt.title(\"Distribution of the numbers of card requires to complete 21\")\n",
        "plt.xlabel(\"Number of cards\")\n",
        "plt.ylabel(\"Relative Frequency\")\n",
        "plt.show\n",
        "\n",
        "print(\"21 Blackjack - Poker deck\")\n",
        "print(\"\\nProbability of complete 21: \",count/n)\n",
        "print(\"Average number of cards: \",avnc/count,\"\\n\")"
      ],
      "execution_count": null,
      "outputs": [
        {
          "output_type": "stream",
          "text": [
            "21 Blackjack - Poker deck\n",
            "\n",
            "Probability of complete 21:  0.1403\n",
            "Average number of cards:  3.5858873841767642 \n",
            "\n"
          ],
          "name": "stdout"
        },
        {
          "output_type": "display_data",
          "data": {
            "image/png": "[encoded data removed]",
            "text/plain": [
              "<Figure size 432x288 with 1 Axes>"
            ]
          },
          "metadata": {
            "tags": [],
            "needs_background": "light"
          }
        }
      ]
    },
    {
      "cell_type": "markdown",
      "metadata": {
        "id": "AZB5Z3sK5a2E",
        "colab_type": "text"
      },
      "source": [
        "### Spanish deck"
      ]
    },
    {
      "cell_type": "code",
      "metadata": {
        "id": "TCHLHJVs5dYL",
        "colab_type": "code",
        "colab": {
          "base_uri": "https://localhost:8080/",
          "height": 102
        },
        "outputId": "1d3cd350-3671-4720-c214-faf05cb09c9c"
      },
      "source": [
        "# n : number of trials; count : times won; avnc : average number of cards\n",
        "n = 10000\n",
        "count = 0\n",
        "avnc = 0\n",
        "\n",
        "# Monte Carlo method for spanish deck\n",
        "for i in range(n):\n",
        "  \n",
        "  spanish_deck = [1,2,3,4,5,6,7,8,9,10,10,10,1,2,3,4,5,6,7,8,9,10,10,10,1,2,3,4,5,6,7,8,9,10,10,10,1,2,3,4,5,6,7,8,9,10,10,10]\n",
        "  my_hand = []\n",
        "  nc = 0 # number of cards\n",
        "\n",
        "  while (sum(my_hand) < 21):\n",
        "    card = r.choice(spanish_deck)\n",
        "    my_hand.append(card)\n",
        "    spanish_deck.remove(card)\n",
        "    nc += 1\n",
        "  \n",
        "  if (sum(my_hand)==21):\n",
        "    count += 1\n",
        "    avnc += nc\n",
        "\n",
        "# print results\n",
        "print(\"21 Blackjack - Spanish deck\")\n",
        "print(\"\\nProbability of complete 21: \", count/n)\n",
        "print(\"Average number of cards: \", avnc/count, \"\\n\")"
      ],
      "execution_count": null,
      "outputs": [
        {
          "output_type": "stream",
          "text": [
            "21 Blackjack - Spanish deck\n",
            "\n",
            "Probability of complete 21:  0.153\n",
            "Average number of cards:  3.712418300653595 \n",
            "\n"
          ],
          "name": "stdout"
        }
      ]
    },
    {
      "cell_type": "code",
      "metadata": {
        "id": "gWRcCOg25qcO",
        "colab_type": "code",
        "colab": {
          "base_uri": "https://localhost:8080/",
          "height": 380
        },
        "outputId": "5010724f-fcb9-445a-853e-7cde8759e10f"
      },
      "source": [
        "n = 10000\n",
        "count = 0\n",
        "avnc = 0\n",
        "nc_to_win = []\n",
        "\n",
        "for i in range(n):\n",
        "  spanish_deck = [1,2,3,4,5,6,7,8,9,10,10,10,1,2,3,4,5,6,7,8,9,10,10,10,1,2,3,4,5,6,7,8,9,10,10,10,1,2,3,4,5,6,7,8,9,10,10,10]\n",
        "  my_hand = []\n",
        "  nc = 0\n",
        "  while (sum(my_hand) < 21):\n",
        "    card = r.choice(spanish_deck)\n",
        "    my_hand.append(card)\n",
        "    spanish_deck.remove(card)\n",
        "    nc += 1\n",
        "  if (sum(my_hand)==21):\n",
        "    count += 1\n",
        "    avnc += nc\n",
        "    nc_to_win.append(nc)\n",
        "\n",
        "plt.figure()\n",
        "plt.hist(nc_to_win, density=True, bins=13)\n",
        "plt.title(\"Distribution of the numbers of card requires to complete 21\")\n",
        "plt.xlabel(\"Number of cards\")\n",
        "plt.ylabel(\"Relative Frequency\")\n",
        "plt.show\n",
        "\n",
        "print(\"21 Blackjack - Spanish deck\")\n",
        "print(\"\\nProbability of complete 21: \",count/n)\n",
        "print(\"Average number of cards: \",avnc/count,\"\\n\")"
      ],
      "execution_count": null,
      "outputs": [
        {
          "output_type": "stream",
          "text": [
            "21 Blackjack - Spanish deck\n",
            "\n",
            "Probability of complete 21:  0.1488\n",
            "Average number of cards:  3.71505376344086 \n",
            "\n"
          ],
          "name": "stdout"
        },
        {
          "output_type": "display_data",
          "data": {
            "image/png": "[encoded data removed]",
            "text/plain": [
              "<Figure size 432x288 with 1 Axes>"
            ]
          },
          "metadata": {
            "tags": [],
            "needs_background": "light"
          }
        }
      ]
    },
    {
      "cell_type": "markdown",
      "metadata": {
        "id": "QfbnhYGT54EM",
        "colab_type": "text"
      },
      "source": [
        "# 3. Probability assuming have 19\n",
        "Calculate the probability of getting a 21, with the Spanish and Poker card deck, assuming that you are in the middle of game and the remaining deck has n/2 card and you have cards [7,7,5]. You pick arbitrary what card are in the remaining deck with the only restriction that there are be maximum two 7s and three 5s). Plot the experimental distribution of the numbers of card requires to complete 21 in 10000 simulations."
      ]
    },
    {
      "cell_type": "markdown",
      "metadata": {
        "id": "vLRndmAg8p8_",
        "colab_type": "text"
      },
      "source": [
        "### Poker deck"
      ]
    },
    {
      "cell_type": "code",
      "metadata": {
        "id": "V_reE-FI6HRJ",
        "colab_type": "code",
        "colab": {
          "base_uri": "https://localhost:8080/",
          "height": 139
        },
        "outputId": "3bed2cdb-b762-4bb0-fccb-ead0e35bc862"
      },
      "source": [
        "# n : number of trials; count : times won; avnc : average number of cards\n",
        "n = 10000\n",
        "count = 0\n",
        "avnc = 0\n",
        "\n",
        "# Made n/2 poker deck\n",
        "poker_deck0 = [1,2,3,4,5,6,7,8,9,10,11,12,13,1,2,3,4,5,6,7,8,9,10,11,12,13,1,2,3,4,5,6,7,8,9,10,11,12,13,1,2,3,4,5,6,7,8,9,10,11,12,13]\n",
        "# Pop n/2 random cards of deck\n",
        "for i in range(len(poker_deck0)//2-1):\n",
        "  c = r.randint(i, len(poker_deck0)-1) \n",
        "  poker_deck0.pop(c)\n",
        "print(poker_deck0)\n",
        "\n",
        "# Monte Carlo method for poker deck\n",
        "for i in range(n):\n",
        "  \n",
        "  poker_deck = poker_deck0[:]\n",
        "  \n",
        "  my_hand = [7,7,5]\n",
        "  nc = 0 # number of cards\n",
        "\n",
        "  while (sum(my_hand) < 21):\n",
        "    card = r.choice(poker_deck)\n",
        "    my_hand.append(card)\n",
        "    poker_deck.remove(card)\n",
        "    nc += 1\n",
        "  \n",
        "  if (sum(my_hand)==21):\n",
        "    count += 1\n",
        "    avnc += nc\n",
        "\n",
        "# print results\n",
        "print(\"21 Blackjack - Poker deck\")\n",
        "print(\"\\nProbability of complete 21: \", count/n)\n",
        "print(\"Average number of cards: \", avnc/count, \"\\n\")"
      ],
      "execution_count": null,
      "outputs": [
        {
          "output_type": "stream",
          "text": [
            "[1, 2, 3, 4, 5, 6, 7, 8, 9, 12, 13, 1, 2, 3, 5, 6, 7, 8, 9, 11, 12, 13, 1, 4, 12, 4, 5]\n",
            "21 Blackjack - Poker deck\n",
            "\n",
            "Probability of complete 21:  0.0807\n",
            "Average number of cards:  1.117719950433705 \n",
            "\n"
          ],
          "name": "stdout"
        }
      ]
    },
    {
      "cell_type": "code",
      "metadata": {
        "id": "ZYb70rQ3-jyB",
        "colab_type": "code",
        "colab": {
          "base_uri": "https://localhost:8080/",
          "height": 350
        },
        "outputId": "9e28679a-2988-418c-e87b-7ea371ce9019"
      },
      "source": [
        "# n : number of trials; count : times won; avnc : average number of cards\n",
        "n = 10000\n",
        "count = 0\n",
        "avnc = 0\n",
        "nc_to_win = []\n",
        "\n",
        "# Monte Carlo method for poker deck\n",
        "for i in range(n):\n",
        "  \n",
        "  poker_deck = [1,2,3,4,5,6,7,8,9,10,11,12,13,1,2,3,4,5,6,7,8,9,10,11,12,13,1,2,3,4,5,6,7,8,9,10,11,12,13,1,2,3,4,5,6,7,8,9,10,11,12,13]\n",
        "  \n",
        "  # Pop n/2 random cards of deck\n",
        "  for i in range(len(poker_deck)//2-1):\n",
        "    c = r.randint(i, len(poker_deck)-1) \n",
        "    poker_deck.pop(c)\n",
        "  \n",
        "  my_hand = [7,7,5]\n",
        "  nc = 0 # number of cards\n",
        "\n",
        "  while (sum(my_hand) < 21):\n",
        "    card = r.choice(poker_deck)\n",
        "    my_hand.append(card)\n",
        "    poker_deck.remove(card)\n",
        "    nc += 1\n",
        "  \n",
        "  if (sum(my_hand)==21):\n",
        "    count += 1\n",
        "    avnc += nc\n",
        "    nc_to_win.append(nc)\n",
        "\n",
        "plt.figure()\n",
        "plt.hist(nc_to_win, density=True, bins=11)\n",
        "plt.show\n",
        "\n",
        "\n",
        "# print results\n",
        "print(\"21 Blackjack - Poker deck\")\n",
        "print(\"\\nProbability of complete 21: \", count/n)\n",
        "print(\"Average number of cards: \", avnc/count, \"\\n\")"
      ],
      "execution_count": null,
      "outputs": [
        {
          "output_type": "stream",
          "text": [
            "21 Blackjack - Poker deck\n",
            "\n",
            "Probability of complete 21:  0.0964\n",
            "Average number of cards:  1.062240663900415 \n",
            "\n"
          ],
          "name": "stdout"
        },
        {
          "output_type": "display_data",
          "data": {
            "image/png": "[encoded data removed]",
            "text/plain": [
              "<Figure size 432x288 with 1 Axes>"
            ]
          },
          "metadata": {
            "tags": [],
            "needs_background": "light"
          }
        }
      ]
    },
    {
      "cell_type": "markdown",
      "metadata": {
        "id": "zrT2zYx1E1u9",
        "colab_type": "text"
      },
      "source": [
        "##Spanish Cards\n"
      ]
    },
    {
      "cell_type": "code",
      "metadata": {
        "id": "tN5hiSG0E5qo",
        "colab_type": "code",
        "colab": {
          "base_uri": "https://localhost:8080/",
          "height": 350
        },
        "outputId": "ceec13b8-15cf-48e3-9b38-cc1757face75"
      },
      "source": [
        "# n : number of trials; count : times won; avnc : average number of cards\n",
        "n = 10000\n",
        "count = 0\n",
        "avnc = 0\n",
        "nc_to_win = []\n",
        "\n",
        "# Monte Carlo method for spanish deck\n",
        "for i in range(n):\n",
        "  \n",
        "  spanish_deck = [1,2,3,4,5,6,7,8,9,10,11,12,1,2,3,4,5,6,7,8,9,10,11,12,1,2,3,4,5,6,7,8,9,10,11,12,1,2,3,4,5,6,7,8,9,10,11,12]\n",
        "  \n",
        "  # Pop n/2 random cards of deck\n",
        "  for i in range(len(spanish_deck)//2-1):\n",
        "    c = r.randint(i, len(spanish_deck)-1) \n",
        "    spanish_deck.pop(c)\n",
        "\n",
        "  \n",
        "  my_hand = [7,7,5]\n",
        "  nc = 0 # number of cards\n",
        "\n",
        "  while (sum(my_hand) < 21):\n",
        "    card = r.choice(spanish_deck)\n",
        "    my_hand.append(card)\n",
        "    spanish_deck.remove(card)\n",
        "    nc += 1\n",
        "  \n",
        "  if (sum(my_hand)==21):\n",
        "    count += 1\n",
        "    avnc += nc\n",
        "    nc_to_win.append(nc)\n",
        "\n",
        "plt.figure()\n",
        "plt.hist(nc_to_win, density=True, bins=11)\n",
        "plt.show\n",
        "\n",
        "\n",
        "# print results\n",
        "print(\"21 Blackjack - Spanish deck\")\n",
        "print(\"\\nProbability of complete 21: \", count/n)\n",
        "print(\"Average number of cards: \", avnc/count, \"\\n\")"
      ],
      "execution_count": null,
      "outputs": [
        {
          "output_type": "stream",
          "text": [
            "21 Blackjack - Spanish deck\n",
            "\n",
            "Probability of complete 21:  0.1034\n",
            "Average number of cards:  1.0657640232108316 \n",
            "\n"
          ],
          "name": "stdout"
        },
        {
          "output_type": "display_data",
          "data": {
            "image/png": "[encoded data removed]",
            "text/plain": [
              "<Figure size 432x288 with 1 Axes>"
            ]
          },
          "metadata": {
            "tags": [],
            "needs_background": "light"
          }
        }
      ]
    },
    {
      "cell_type": "markdown",
      "metadata": {
        "id": "Zvr8AojZ6BtH",
        "colab_type": "text"
      },
      "source": [
        "# 4. Highest and Lowest probability"
      ]
    },
    {
      "cell_type": "markdown",
      "metadata": {
        "id": "YEeaAg0cAWJx",
        "colab_type": "text"
      },
      "source": [
        "Find remaining decks for Spanish and Poker card decks, with the number of cards according to the list below, with highest (hot deck) and lowest (cold deck) probabilities of getting 21, calculate the probabilities analytically and verify them with Montecarlo. Plot the experimental distribution of the numbers of card requires to complete 21 in 10000 simulations.\n"
      ]
    },
    {
      "cell_type": "markdown",
      "metadata": {
        "id": "SzpmPyS_Cz-I",
        "colab_type": "text"
      },
      "source": [
        "##Poker Cards\n"
      ]
    },
    {
      "cell_type": "markdown",
      "metadata": {
        "id": "mLef8RIWYRFR",
        "colab_type": "text"
      },
      "source": [
        "### Hot Deck"
      ]
    },
    {
      "cell_type": "code",
      "metadata": {
        "id": "2ygMV40-6G0d",
        "colab_type": "code",
        "colab": {
          "base_uri": "https://localhost:8080/",
          "height": 350
        },
        "outputId": "d4d0bc53-da5f-4359-fd1d-670d2c9f9ced"
      },
      "source": [
        "# n : number of trials; count : times won; avnc : average number of cards\n",
        "n = 10000\n",
        "count = 0\n",
        "avnc = 0\n",
        "nc_to_win = []\n",
        "poker_deck = [3,4,5,6,7,8,9,10,11,12,13,3,4,5,6,7,8,9,10,11,12,13,3,4,5,6,7,8,9,10,11,12,13,3,4,5,6,7,8,9,10,11,12,13]\n",
        "hot_deck =[1,1,1,1,2,2,2,2]\n",
        "  \n",
        "# Made hot deck\n",
        "while (len(hot_deck) < 12):\n",
        "  c = r.choice(poker_deck)\n",
        "  hot_deck.append(c)\n",
        "  poker_deck.remove(c)\n",
        "\n",
        "# Monte Carlo method for hot deck\n",
        "for i in range(n):\n",
        "  \n",
        "  h_deck = hot_deck[:]\n",
        "  my_hand = [7,7,5]\n",
        "  nc = 0 # number of cards\n",
        "\n",
        "  while (sum(my_hand) < 21):\n",
        "    card = r.choice(h_deck)\n",
        "    my_hand.append(card)\n",
        "    h_deck.remove(card)\n",
        "    nc += 1\n",
        "  \n",
        "  if (sum(my_hand)==21):\n",
        "    count += 1\n",
        "    avnc += nc\n",
        "    nc_to_win.append(nc)\n",
        "\n",
        "plt.figure()\n",
        "plt.hist(nc_to_win, density=True, bins=11)\n",
        "plt.show\n",
        "\n",
        "\n",
        "# print results\n",
        "print(\"21 Blackjack - Poker deck: Hot deck\")\n",
        "print(\"\\nProbability of complete 21: \", count/n)\n",
        "print(\"Average number of cards: \", avnc/count, \"\\n\")"
      ],
      "execution_count": null,
      "outputs": [
        {
          "output_type": "stream",
          "text": [
            "21 Blackjack - Poker deck: Hot deck\n",
            "\n",
            "Probability of complete 21:  0.432\n",
            "Average number of cards:  1.2145833333333333 \n",
            "\n"
          ],
          "name": "stdout"
        },
        {
          "output_type": "display_data",
          "data": {
            "image/png": "[encoded data removed]",
            "text/plain": [
              "<Figure size 432x288 with 1 Axes>"
            ]
          },
          "metadata": {
            "tags": [],
            "needs_background": "light"
          }
        }
      ]
    },
    {
      "cell_type": "markdown",
      "metadata": {
        "id": "eJU2jdjHYVo-",
        "colab_type": "text"
      },
      "source": [
        "###Cold Deck"
      ]
    },
    {
      "cell_type": "code",
      "metadata": {
        "id": "0e4ldyetI8of",
        "colab_type": "code",
        "colab": {
          "base_uri": "https://localhost:8080/",
          "height": 370
        },
        "outputId": "515fff20-8425-4d26-ebdc-9932c95b9858"
      },
      "source": [
        "# n : number of trials; count : times won; avnc : average number of cards\n",
        "n = 10000\n",
        "count = 0\n",
        "avnc = 0\n",
        "nc_to_win = []\n",
        "\n",
        "poker_deck = [3,4,5,6,7,8,9,10,11,12,13,3,4,5,6,7,8,9,10,11,12,13,3,4,5,6,7,8,9,10,11,12,13,3,4,5,6,7,8,9,10,11,12,13]\n",
        "cold_deck =[]\n",
        "\n",
        "#Made cold deck\n",
        "while (len(cold_deck) < 12):\n",
        "  c = r.choice(poker_deck)\n",
        "  cold_deck.append(c)\n",
        "  poker_deck.remove(c)\n",
        "  \n",
        "\n",
        "# Monte Carlo method for cold deck\n",
        "for i in range(n):\n",
        "  \n",
        "  c_deck = cold_deck[:]\n",
        "  my_hand = [7,7,5]\n",
        "  nc = 0 # number of cards\n",
        "\n",
        "  while (sum(my_hand) < 21):\n",
        "    card = r.choice(c_deck)\n",
        "    my_hand.append(card)\n",
        "    c_deck.remove(card)\n",
        "    nc += 1\n",
        "  \n",
        "  if (sum(my_hand)==21):\n",
        "    count += 1\n",
        "    avnc += nc\n",
        "    nc_to_win.append(nc)\n",
        "\n",
        "plt.figure()\n",
        "plt.hist(nc_to_win, density=True, bins=11)\n",
        "plt.show\n",
        "\n",
        "\n",
        "# print results\n",
        "print(\"21 Blackjack - Poker deck: Cold deck\")\n",
        "print(\"\\nProbability of complete 21: \", count/n)\n",
        "#print(\"Average number of cards: \", avnc/count, \"\\n\")"
      ],
      "execution_count": null,
      "outputs": [
        {
          "output_type": "stream",
          "text": [
            "21 Blackjack - Poker deck: Cold deck\n",
            "\n",
            "Probability of complete 21:  0.0\n"
          ],
          "name": "stdout"
        },
        {
          "output_type": "stream",
          "text": [
            "/usr/local/lib/python3.6/dist-packages/numpy/lib/histograms.py:908: RuntimeWarning: invalid value encountered in true_divide\n",
            "  return n/db/n.sum(), bin_edges\n"
          ],
          "name": "stderr"
        },
        {
          "output_type": "display_data",
          "data": {
            "image/png": "[encoded data removed]",
            "text/plain": [
              "<Figure size 432x288 with 1 Axes>"
            ]
          },
          "metadata": {
            "tags": [],
            "needs_background": "light"
          }
        }
      ]
    },
    {
      "cell_type": "markdown",
      "metadata": {
        "id": "eprP866_C4gI",
        "colab_type": "text"
      },
      "source": [
        "##Spanish Cards\n"
      ]
    },
    {
      "cell_type": "markdown",
      "metadata": {
        "id": "KQPLPXTqZL2_",
        "colab_type": "text"
      },
      "source": [
        "### Hot Deck"
      ]
    },
    {
      "cell_type": "code",
      "metadata": {
        "id": "w_5JSeIlC745",
        "colab_type": "code",
        "colab": {
          "base_uri": "https://localhost:8080/",
          "height": 350
        },
        "outputId": "09f3cb10-6da7-4a3f-bd45-e66e5beab0fc"
      },
      "source": [
        "# n : number of trials; count : times won; avnc : average number of cards\n",
        "n = 10000\n",
        "count = 0\n",
        "avnc = 0\n",
        "nc_to_win = []\n",
        "spanish_deck = [3,4,5,6,7,8,9,10,11,12,3,4,5,6,7,8,9,10,11,12,3,4,5,6,7,8,9,10,11,12,3,4,5,6,7,8,9,10,11,12]\n",
        "hot_deck = [1,1,1,1,2,2,2,2]\n",
        "  \n",
        "# Made hot deck\n",
        "while (len(hot_deck) < 12):\n",
        "  c = r.choice(spanish_deck)\n",
        "  hot_deck.append(c)\n",
        "  spanish_deck.remove(c)\n",
        "\n",
        "# Monte Carlo method for hot deck\n",
        "for i in range(n):\n",
        "  \n",
        "  h_deck = hot_deck[:]\n",
        "  my_hand = [7,7,5]\n",
        "  nc = 0 # number of cards\n",
        "\n",
        "  while (sum(my_hand) < 21):\n",
        "    card = r.choice(h_deck)\n",
        "    my_hand.append(card)\n",
        "    h_deck.remove(card)\n",
        "    nc += 1\n",
        "  \n",
        "  if (sum(my_hand)==21):\n",
        "    count += 1\n",
        "    avnc += nc\n",
        "    nc_to_win.append(nc)\n",
        "\n",
        "plt.figure()\n",
        "plt.hist(nc_to_win, density=True, bins=11)\n",
        "plt.show\n",
        "\n",
        "\n",
        "# print results\n",
        "print(\"21 Blackjack - Spanish deck: Hot deck\")\n",
        "print(\"\\nProbability of complete 21: \", count/n)\n",
        "print(\"Average number of cards: \", avnc/count, \"\\n\")"
      ],
      "execution_count": null,
      "outputs": [
        {
          "output_type": "stream",
          "text": [
            "21 Blackjack - Spanish deck: Hot deck\n",
            "\n",
            "Probability of complete 21:  0.4234\n",
            "Average number of cards:  1.2210675484175721 \n",
            "\n"
          ],
          "name": "stdout"
        },
        {
          "output_type": "display_data",
          "data": {
            "image/png": "[encoded data removed]",
            "text/plain": [
              "<Figure size 432x288 with 1 Axes>"
            ]
          },
          "metadata": {
            "tags": [],
            "needs_background": "light"
          }
        }
      ]
    },
    {
      "cell_type": "markdown",
      "metadata": {
        "id": "qGqM_EaWZQHv",
        "colab_type": "text"
      },
      "source": [
        "### Cold Deck"
      ]
    },
    {
      "cell_type": "code",
      "metadata": {
        "id": "df8FRW8zZTLA",
        "colab_type": "code",
        "colab": {
          "base_uri": "https://localhost:8080/",
          "height": 370
        },
        "outputId": "3acb6e9f-fc13-45a5-9907-737d01266afe"
      },
      "source": [
        "# n : number of trials; count : times won; avnc : average number of cards\n",
        "n = 10000\n",
        "count = 0\n",
        "avnc = 0\n",
        "nc_to_win = []\n",
        "spanish_deck = [3,4,5,6,7,8,9,10,11,12,3,4,5,6,7,8,9,10,11,12,3,4,5,6,7,8,9,10,11,12,3,4,5,6,7,8,9,10,11,12]\n",
        "cold_deck =[]\n",
        "\n",
        "#Made cold deck\n",
        "while (len(cold_deck) < 12):\n",
        "  c = r.choice(spanish_deck)\n",
        "  cold_deck.append(c)\n",
        "  spanish_deck.remove(c)\n",
        "\n",
        "# Monte Carlo method for hot deck\n",
        "for i in range(n):\n",
        "  \n",
        "  c_deck = cold_deck[:]\n",
        "  my_hand = [7,7,5]\n",
        "  nc = 0 # number of cards\n",
        "\n",
        "  while (sum(my_hand) < 21):\n",
        "    card = r.choice(c_deck)\n",
        "    my_hand.append(card)\n",
        "    c_deck.remove(card)\n",
        "    nc += 1\n",
        "  \n",
        "  if (sum(my_hand)==21):\n",
        "    count += 1\n",
        "    avnc += nc\n",
        "    nc_to_win.append(nc)\n",
        "\n",
        "plt.figure()\n",
        "plt.hist(nc_to_win, density=True, bins=11)\n",
        "plt.show\n",
        "\n",
        "\n",
        "# print results\n",
        "print(\"21 Blackjack - Spanish deck: Cold deck\")\n",
        "print(\"\\nProbability of complete 21: \", count/n)\n",
        "#print(\"Average number of cards: \", avnc/count, \"\\n\")"
      ],
      "execution_count": null,
      "outputs": [
        {
          "output_type": "stream",
          "text": [
            "21 Blackjack - Spanish deck: Cold deck\n",
            "\n",
            "Probability of complete 21:  0.0\n"
          ],
          "name": "stdout"
        },
        {
          "output_type": "stream",
          "text": [
            "/usr/local/lib/python3.6/dist-packages/numpy/lib/histograms.py:908: RuntimeWarning: invalid value encountered in true_divide\n",
            "  return n/db/n.sum(), bin_edges\n"
          ],
          "name": "stderr"
        },
        {
          "output_type": "display_data",
          "data": {
            "image/png": "[encoded data removed]",
            "text/plain": [
              "<Figure size 432x288 with 1 Axes>"
            ]
          },
          "metadata": {
            "tags": [],
            "needs_background": "light"
          }
        }
      ]
    },
    {
      "cell_type": "markdown",
      "metadata": {
        "id": "QTlsnXbe6Dcx",
        "colab_type": "text"
      },
      "source": [
        "#5. Ben goes to Vegas\n",
        "\n",
        "If Ben goes to Vegas every weekend (Friday, Saturday and Sunday), plays every weekend day 10 hours, each game takes 3 mins. He gets the cards [7,7,5] and a remaining hot deck with probability 1/10, the cards in hot deck are the ones obtained in the previous quiz point 4. Asume that for cold decks the Ben has no cards and the remaining deck is the complete deck. He bets \\$1000 on hot decks and \\$10 on cold decks. What is the estimated amount of money that Ben wins or losses on a weekend estimated with 10 million simulations using both the Spanish and Poker card decks? Plot the experimental distribution of the numbers of card requires to complete 21 in 10000 simulations."
      ]
    },
    {
      "cell_type": "markdown",
      "metadata": {
        "id": "ijnN0wCRneQd",
        "colab_type": "text"
      },
      "source": [
        "## Spanish deck\n"
      ]
    },
    {
      "cell_type": "code",
      "metadata": {
        "id": "zICaGdMH59GK",
        "colab_type": "code",
        "colab": {
          "base_uri": "https://localhost:8080/",
          "height": 414
        },
        "outputId": "96bc7d3e-2626-478c-c00a-b65d070c75de"
      },
      "source": [
        "# Define variables\n",
        "n = 10000\n",
        "games_wekend = 600\n",
        "count = 0\n",
        "avnc = 0\n",
        "nc_to_win = []\n",
        "bets_list = []\n",
        "\n",
        "\n",
        "for i in range(n):\n",
        "  bets = 0\n",
        "  for i in range(games_wekend):\n",
        "    nc = 0\n",
        "    c_deck = [1,2,3,4,5,6,7,8,9,10,11,12,1,2,3,4,5,6,7,8,9,10,11,12,1,2,3,4,5,6,7,8,9,10,11,12,1,2,3,4,5,6,7,8,9,10,11,12]\n",
        "    my_hand = []\n",
        "    p = r.randint(1,10)\n",
        "\n",
        "    # Made hot deck\n",
        "    spanish_deck = [3,4,6,8,9,10,11,12,3,4,5,6,8,9,10,11,12,3,4,5,6,7,8,9,10,11,12,3,4,5,6,7,8,9,10,11,12]\n",
        "    hot_deck = [1,1,1,1,2,2,2,2]\n",
        "    while (len(hot_deck) < 12):\n",
        "      c = r.choice(spanish_deck)\n",
        "      hot_deck.append(c)\n",
        "      spanish_deck.remove(c)\n",
        "    \n",
        "    h_deck = hot_deck[:]\n",
        "\n",
        "    if (p == 1): # hot deck\n",
        "      my_hand = [7,7,5]\n",
        "      while (sum(my_hand) < 21):\n",
        "        card = r.choice(h_deck)\n",
        "        my_hand.append(card)\n",
        "        h_deck.remove(card)\n",
        "        nc += 1\n",
        "      if (sum(my_hand)==21): #if win, earn $1000\n",
        "        count += 1\n",
        "        avnc += nc\n",
        "        nc_to_win.append(nc)  \n",
        "        bets += 1000\n",
        "        bets_list.append(bets)\n",
        "      else:\n",
        "        bets -= 1000\n",
        "        bets_list.append(bets)\n",
        "    else: # cold deck\n",
        "      while (sum(my_hand) < 21):\n",
        "        card = r.choice(c_deck)\n",
        "        my_hand.append(card)\n",
        "        c_deck.remove(card)\n",
        "        nc += 1\n",
        "      if (sum(my_hand)==21): #if win, earn $10\n",
        "        count += 1\n",
        "        avnc += nc\n",
        "        nc_to_win.append(nc) \n",
        "        bets += 10\n",
        "        bets_list.append(bets)\n",
        "      else:\n",
        "        bets -= 10\n",
        "        bets_list.append(bets)\n",
        "\n",
        "print(\"Bens goes to Vegas - Spanish deck\")\n",
        "print(\"\\nAverage profit: \",sum(bets_list)//(n*games_wekend), \"$\")\n",
        "print(\"Probability of complete 21: \", count/(n*games_wekend))\n",
        "print(\"Average number of cards: \", avnc/count, \"\\n\")\n",
        "\n",
        "plt.figure()\n",
        "plt.hist(nc_to_win, density=True, bins=13)\n",
        "plt.title(\"Distribution of the numbers of card requires to complete 21\")\n",
        "plt.xlabel(\"Number of cards\")\n",
        "plt.ylabel(\"Relative Frequency\")\n",
        "plt.show"
      ],
      "execution_count": null,
      "outputs": [
        {
          "output_type": "stream",
          "text": [
            "Bens goes to Vegas - Spanish deck\n",
            "\n",
            "Average profit:  -6424 $\n",
            "Probability of complete 21:  0.18445\n",
            "Average number of cards:  2.9104373362248124 \n",
            "\n"
          ],
          "name": "stdout"
        },
        {
          "output_type": "execute_result",
          "data": {
            "text/plain": [
              "<function matplotlib.pyplot.show>"
            ]
          },
          "metadata": {
            "tags": []
          },
          "execution_count": 22
        },
        {
          "output_type": "display_data",
          "data": {
            "image/png": "[encoded data removed]",
            "text/plain": [
              "<Figure size 432x288 with 1 Axes>"
            ]
          },
          "metadata": {
            "tags": [],
            "needs_background": "light"
          }
        }
      ]
    },
    {
      "cell_type": "markdown",
      "metadata": {
        "id": "fkcR7wJEGsxH",
        "colab_type": "text"
      },
      "source": [
        "##Poker Card"
      ]
    },
    {
      "cell_type": "code",
      "metadata": {
        "id": "Cr1em52N6iw1",
        "colab_type": "code",
        "colab": {
          "base_uri": "https://localhost:8080/",
          "height": 414
        },
        "outputId": "07f46171-ae05-491b-a2f8-004889e63eed"
      },
      "source": [
        "# Define variables\n",
        "n = 10000\n",
        "games_wekend = 600\n",
        "count = 0\n",
        "avnc = 0\n",
        "nc_to_win = []\n",
        "bets_list = []\n",
        "\n",
        "\n",
        "for i in range(n):\n",
        "  bets = 0\n",
        "  for i in range(games_wekend):\n",
        "    nc = 0\n",
        "    c_deck = [1,2,3,4,5,6,7,8,9,10,11,12,13,1,2,3,4,5,6,7,8,9,10,11,12,13,1,2,3,4,5,6,7,8,9,10,11,12,1,2,3,4,5,6,7,8,9,10,11,12,13]\n",
        "    my_hand = []\n",
        "    p = r.randint(1,10)\n",
        "\n",
        "    # Made hot deck\n",
        "    poker_deck = [3,4,6,8,9,10,11,12,13,3,4,5,6,8,9,10,11,12,13,3,4,5,6,7,8,9,10,11,12,13,3,4,5,6,7,8,9,10,11,12,13]\n",
        "    hot_deck = [1,1,1,1,2,2,2,2]\n",
        "    while (len(hot_deck) < 10):\n",
        "      c = r.choice(poker_deck)\n",
        "      hot_deck.append(c)\n",
        "      poker_deck.remove(c)\n",
        "    \n",
        "    h_deck = hot_deck[:]\n",
        "\n",
        "    if (p == 1): # hot deck\n",
        "      my_hand = [7,7,5]\n",
        "      while (sum(my_hand) < 21):\n",
        "        card = r.choice(h_deck)\n",
        "        my_hand.append(card)\n",
        "        h_deck.remove(card)\n",
        "        nc += 1\n",
        "      if (sum(my_hand)==21): #if win, earn $1000\n",
        "        count += 1\n",
        "        avnc += nc\n",
        "        nc_to_win.append(nc)  \n",
        "        bets += 1000\n",
        "        bets_list.append(bets)\n",
        "      else:\n",
        "        bets -= 1000\n",
        "        bets_list.append(bets)\n",
        "    else: # cold deck\n",
        "      while (sum(my_hand) < 21):\n",
        "        card = r.choice(c_deck)\n",
        "        my_hand.append(card)\n",
        "        c_deck.remove(card)\n",
        "        nc += 1\n",
        "      if (sum(my_hand)==21): #if win, earn $10\n",
        "        count += 1\n",
        "        avnc += nc\n",
        "        nc_to_win.append(nc) \n",
        "        bets += 10\n",
        "        bets_list.append(bets)\n",
        "      else:\n",
        "        bets -= 10\n",
        "        bets_list.append(bets)\n",
        "\n",
        "print(\"Bens goes to Vegas - Poker deck\")\n",
        "print(\"\\nAverage profit: \",sum(bets_list)//(n*games_wekend), \"$\")\n",
        "print(\"Probability of complete 21: \", count/(n*games_wekend))\n",
        "print(\"Average number of cards: \", avnc/count, \"\\n\")\n",
        "\n",
        "plt.figure()\n",
        "plt.hist(nc_to_win, density=True, bins=13)\n",
        "plt.title(\"Distribution of the numbers of card requires to complete 21\")\n",
        "plt.xlabel(\"Number of cards\")\n",
        "plt.ylabel(\"Relative Frequency\")\n",
        "plt.show"
      ],
      "execution_count": null,
      "outputs": [
        {
          "output_type": "stream",
          "text": [
            "Bens goes to Vegas - Poker deck\n",
            "\n",
            "Average profit:  71 $\n",
            "Probability of complete 21:  0.1862165\n",
            "Average number of cards:  2.685698277721541 \n",
            "\n"
          ],
          "name": "stdout"
        },
        {
          "output_type": "execute_result",
          "data": {
            "text/plain": [
              "<function matplotlib.pyplot.show>"
            ]
          },
          "metadata": {
            "tags": []
          },
          "execution_count": 23
        },
        {
          "output_type": "display_data",
          "data": {
            "image/png": "[encoded data removed]",
            "text/plain": [
              "<Figure size 432x288 with 1 Axes>"
            ]
          },
          "metadata": {
            "tags": [],
            "needs_background": "light"
          }
        }
      ]
    },
    {
      "cell_type": "code",
      "metadata": {
        "id": "jkYAatPPGl4C",
        "colab_type": "code",
        "colab": {}
      },
      "source": [
        ""
      ],
      "execution_count": null,
      "outputs": []
    }
  ]
}